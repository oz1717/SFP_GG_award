{
 "cells": [
  {
   "cell_type": "code",
   "execution_count": null,
   "metadata": {
    "collapsed": true
   },
   "outputs": [],
   "source": [
    "import pandas as pd\n",
    "import numpy as np\n",
    "import matplotlib.pyplot as plt\n",
    "import seaborn as sns\n",
    "from sklearn.svm import LinearSVC\n",
    "from sklearn.linear_model import LogisticRegression\n",
    "from sklearn.tree import DecisionTreeClassifier\n",
    "from sklearn.model_selection import train_test_split, GridSearchCV\n",
    "from sklearn.metrics import confusion_matrix, classification_report, accuracy_score, average_precision_score, \\\n",
    "precision_recall_curve\n",
    "from sklearn.preprocessing import OneHotEncoder\n",
    "from sklearn.ensemble import RandomForestClassifier, GradientBoostingClassifier"
   ]
  },
  {
   "cell_type": "code",
   "execution_count": null,
   "metadata": {
    "collapsed": true
   },
   "outputs": [],
   "source": [
    "master_df = pd.read_csv('core/master.csv')\n",
    "awards_df = pd.read_csv('core/AwardsPlayers.csv')\n",
    "batting_df = pd.read_csv('core/Batting.csv')\n",
    "field_df = pd.read_csv('core/Fielding.csv')\n",
    "allstar_df = pd.read_csv('core/AllStarFull.csv')\n",
    "salary_df = pd.read_csv('core/Salaries.csv')"
   ]
  },
  {
   "cell_type": "code",
   "execution_count": null,
   "metadata": {
    "collapsed": true
   },
   "outputs": [],
   "source": [
    "gg_df = awards_df[awards_df.awardID=='Gold Glove']"
   ]
  },
  {
   "cell_type": "code",
   "execution_count": null,
   "metadata": {},
   "outputs": [],
   "source": [
    "field_df[['POS']].head()"
   ]
  },
  {
   "cell_type": "code",
   "execution_count": null,
   "metadata": {},
   "outputs": [],
   "source": [
    "batting_df[['2B']].head()"
   ]
  },
  {
   "cell_type": "code",
   "execution_count": null,
   "metadata": {},
   "outputs": [],
   "source": [
    "#stats_df = pd.concat([batting_df, field_df], axis=1)#join_axes=['yearID', 'playerID'])\n",
    "stats_df = pd.merge(batting_df, field_df, on=['playerID', 'yearID'])"
   ]
  },
  {
   "cell_type": "code",
   "execution_count": null,
   "metadata": {},
   "outputs": [],
   "source": [
    "#stats_df[['2B', 'POS']].head()\n",
    "stats_df.head()"
   ]
  },
  {
   "cell_type": "code",
   "execution_count": null,
   "metadata": {},
   "outputs": [],
   "source": [
    "stats_df['yearID']"
   ]
  },
  {
   "cell_type": "code",
   "execution_count": null,
   "metadata": {},
   "outputs": [],
   "source": [
    "stats_df = stats_df[stats_df['yearID']>1956]"
   ]
  },
  {
   "cell_type": "code",
   "execution_count": null,
   "metadata": {},
   "outputs": [],
   "source": [
    "stats_df.head()"
   ]
  },
  {
   "cell_type": "code",
   "execution_count": null,
   "metadata": {},
   "outputs": [],
   "source": [
    "gg_df.head()"
   ]
  },
  {
   "cell_type": "code",
   "execution_count": null,
   "metadata": {},
   "outputs": [],
   "source": [
    "allstar_df.head()"
   ]
  },
  {
   "cell_type": "code",
   "execution_count": null,
   "metadata": {},
   "outputs": [],
   "source": [
    "salary_df.head()"
   ]
  },
  {
   "cell_type": "code",
   "execution_count": null,
   "metadata": {
    "collapsed": true
   },
   "outputs": [],
   "source": [
    "# create a dictionary that gives the salary corresponding year and player\n",
    "combi_salary = {}\n",
    "for year, player, salary in zip(salary_df['yearID'], salary_df['playerID'], salary_df['salary']):\n",
    "    combi_salary[(year, player)] = salary"
   ]
  },
  {
   "cell_type": "code",
   "execution_count": null,
   "metadata": {
    "collapsed": true
   },
   "outputs": [],
   "source": [
    "def get_salary(row):\n",
    "\n",
    "    try:\n",
    "        return combi_salary[(row['yearID'], row['playerID'])]\n",
    "    except KeyError:\n",
    "        return np.nan\n",
    "\n",
    "stats_df['salary'] = stats_df.apply(get_salary, axis = 1)"
   ]
  },
  {
   "cell_type": "code",
   "execution_count": null,
   "metadata": {},
   "outputs": [],
   "source": [
    "stats_df.sample(10)"
   ]
  },
  {
   "cell_type": "code",
   "execution_count": null,
   "metadata": {
    "collapsed": true
   },
   "outputs": [],
   "source": [
    "# create a dictionary that gives the all start position corresponding year and player\n",
    "combi_allstar = {}\n",
    "for year, player, pos in zip(allstar_df['yearID'], allstar_df['playerID'], allstar_df['startingPos']):\n",
    "    if pos == 7 or pos == 8 or pos == 9:\n",
    "        combi_allstar[(year, player)] = 1\n",
    "    else:    \n",
    "        combi_allstar[(year, player)] = 0"
   ]
  },
  {
   "cell_type": "code",
   "execution_count": null,
   "metadata": {
    "collapsed": true
   },
   "outputs": [],
   "source": [
    "def get_allstar(row):\n",
    "\n",
    "    try:\n",
    "        return combi_allstar[(row['yearID'], row['playerID'])]\n",
    "    except KeyError:\n",
    "        return 0"
   ]
  },
  {
   "cell_type": "code",
   "execution_count": null,
   "metadata": {
    "collapsed": true
   },
   "outputs": [],
   "source": [
    "stats_df['allstar'] = stats_df.apply(get_allstar, axis = 1)"
   ]
  },
  {
   "cell_type": "code",
   "execution_count": null,
   "metadata": {
    "collapsed": true
   },
   "outputs": [],
   "source": [
    "# create a dictionary that gives the position corresponding year and player\n",
    "combi = {}\n",
    "for year, player, notes in zip(gg_df['yearID'], gg_df['playerID'], gg_df['notes']):\n",
    "    if notes == 'LF' or notes == 'RF' or notes == 'CF':\n",
    "        combi[(year, player)] = 'OF'\n",
    "    else:    \n",
    "        combi[(year, player)] = notes"
   ]
  },
  {
   "cell_type": "code",
   "execution_count": null,
   "metadata": {
    "collapsed": true
   },
   "outputs": [],
   "source": [
    "def get_position(row):\n",
    "\n",
    "    try:\n",
    "        return combi[(row['yearID'], row['playerID'])]\n",
    "    except KeyError:\n",
    "        return 'false'\n"
   ]
  },
  {
   "cell_type": "code",
   "execution_count": null,
   "metadata": {
    "collapsed": true
   },
   "outputs": [],
   "source": [
    "stats_df['GG'] = stats_df.apply(get_position, axis = 1)"
   ]
  },
  {
   "cell_type": "code",
   "execution_count": null,
   "metadata": {
    "collapsed": true
   },
   "outputs": [],
   "source": [
    "def get_previous(row):\n",
    "\n",
    "    try:\n",
    "        i = 1\n",
    "        num = 0\n",
    "        while combi.get((row['yearID']-i, row['playerID']), False):\n",
    "            pos = combi[(row['yearID']-i, row['playerID'])]\n",
    "            if pos == 'LF' or pos == 'RF' or pos == 'CF' or pos == 'OF':\n",
    "                num += 1\n",
    "                \n",
    "            i += 1\n",
    "            \n",
    "        return num            \n",
    "    \n",
    "    except KeyError:\n",
    "        return 0"
   ]
  },
  {
   "cell_type": "code",
   "execution_count": null,
   "metadata": {
    "collapsed": true
   },
   "outputs": [],
   "source": [
    "stats_df['previous'] = stats_df.apply(get_previous, axis = 1)\n"
   ]
  },
  {
   "cell_type": "code",
   "execution_count": null,
   "metadata": {},
   "outputs": [],
   "source": [
    "stats_df.previous.value_counts()"
   ]
  },
  {
   "cell_type": "code",
   "execution_count": null,
   "metadata": {},
   "outputs": [],
   "source": [
    "stats_df.POS.value_counts()"
   ]
  },
  {
   "cell_type": "code",
   "execution_count": null,
   "metadata": {},
   "outputs": [],
   "source": [
    "stats_df[['2B', '3B', 'POS']].sample(100)"
   ]
  },
  {
   "cell_type": "code",
   "execution_count": null,
   "metadata": {
    "collapsed": true
   },
   "outputs": [],
   "source": [
    "stats_wona_df = stats_df.apply(lambda x : x.fillna(x.mean()) if x.dtype.kind in 'biufc' else x.fillna('.'))"
   ]
  },
  {
   "cell_type": "code",
   "execution_count": null,
   "metadata": {
    "scrolled": false
   },
   "outputs": [],
   "source": [
    "stats_wona_df.head()"
   ]
  },
  {
   "cell_type": "code",
   "execution_count": null,
   "metadata": {},
   "outputs": [],
   "source": [
    "stats_wona_df.columns.values"
   ]
  },
  {
   "cell_type": "code",
   "execution_count": null,
   "metadata": {},
   "outputs": [],
   "source": [
    "stats_wona_df.head()"
   ]
  },
  {
   "cell_type": "code",
   "execution_count": null,
   "metadata": {},
   "outputs": [],
   "source": [
    "stats_OF_df = stats_wona_df[stats_wona_df['POS']=='OF']\n",
    "stats_OF_df.loc[stats_OF_df['GG']!='OF', 'GG'] = 0\n",
    "stats_OF_df.loc[stats_OF_df['GG']=='OF', 'GG'] = 1"
   ]
  },
  {
   "cell_type": "code",
   "execution_count": null,
   "metadata": {},
   "outputs": [],
   "source": [
    "stats_OF_df.head()\n",
    "stats_OF_df.columns.values"
   ]
  },
  {
   "cell_type": "code",
   "execution_count": null,
   "metadata": {},
   "outputs": [],
   "source": [
    "stats_pre_OF_df = stats_OF_df.drop(['lgID_x', 'lgID_y', 'playerID', 'teamID_x', 'teamID_y'], axis=1)\n",
    "#stats_pre_OF_df = pd.get_dummies(stats_pre_OF_df, columns=['POS'])"
   ]
  },
  {
   "cell_type": "code",
   "execution_count": null,
   "metadata": {},
   "outputs": [],
   "source": [
    "stats_pre_OF_df.head()"
   ]
  },
  {
   "cell_type": "code",
   "execution_count": null,
   "metadata": {},
   "outputs": [],
   "source": [
    "X = stats_pre_OF_df.drop(['GG', 'POS'], axis=1)\n",
    "y = list(stats_pre_OF_df['GG'].values)\n",
    "X_train, X_test, y_train, y_test = train_test_split(X, y, test_size=0.2, random_state=0)\n",
    "\n",
    "\n",
    "model = DecisionTreeClassifier()\n",
    "model.fit(X_train, y_train)\n",
    "predicted = model.predict(X_test)\n",
    "print(confusion_matrix(y_test, predicted))\n",
    "predicted_train = model.predict(X_train)\n",
    "print(confusion_matrix(y_train, predicted_train))\n",
    "target_names = (['0','1'])\n",
    "print(classification_report(y_test,\n",
    "                            predicted,\n",
    "                            target_names=target_names))\n",
    "print(accuracy_score(y_test, predicted))"
   ]
  },
  {
   "cell_type": "code",
   "execution_count": null,
   "metadata": {},
   "outputs": [],
   "source": [
    "rf_model = RandomForestClassifier()\n",
    "\n",
    "tuned_parameters = [{'n_estimators': [50,100,300], 'min_samples_leaf': [1, 5, 20],\n",
    "                     'max_features': ['auto', 'sqrt']}]\n",
    "\n",
    "clf = GridSearchCV(rf_model, tuned_parameters)\n",
    "clf.fit(X_train, y_train)\n",
    "predicted = clf.predict(X_test)\n",
    "print(confusion_matrix(y_test, predicted))\n",
    "predicted_train = clf.predict(X_train)\n",
    "print(confusion_matrix(y_train, predicted_train))\n",
    "target_names = (['0','1'])\n",
    "print(classification_report(y_test,\n",
    "                            predicted,\n",
    "                            target_names=target_names))\n",
    "print(accuracy_score(y_test, predicted))\n",
    "print(clf.best_estimator_)"
   ]
  },
  {
   "cell_type": "code",
   "execution_count": null,
   "metadata": {},
   "outputs": [],
   "source": [
    "gb_model = GradientBoostingClassifier()\n",
    "\n",
    "tuned_parameters2 = [{'n_estimators': [50,100,300], 'min_samples_leaf': [1, 5, 20],\n",
    "                     'max_features': ['auto', 'log2']}]\n",
    "\n",
    "clf2 = GridSearchCV(gb_model, tuned_parameters2)\n",
    "clf2.fit(X_train, y_train)\n",
    "predicted = clf2.predict(X_test)\n",
    "print(confusion_matrix(y_test, predicted))\n",
    "predicted_train = clf2.predict(X_train)\n",
    "print(confusion_matrix(y_train, predicted_train))\n",
    "target_names = (['0','1'])\n",
    "print(classification_report(y_test,\n",
    "                            predicted,\n",
    "                            target_names=target_names))\n",
    "print(accuracy_score(y_test, predicted))\n",
    "print(clf2.best_estimator_)"
   ]
  },
  {
   "cell_type": "code",
   "execution_count": null,
   "metadata": {},
   "outputs": [],
   "source": [
    "y_pred_probs = clf2.predict_proba(X_test)\n",
    "print('Some example probabilities:', y_pred_probs[:10])\n",
    "\n",
    "# y_pred_probs contains probabilities for both '1' and '0'. we only\n",
    "# care about the probabilities of '1', so we extract it below.\n",
    "high_index = clf2.best_estimator_.classes_.tolist().index(1) # this '1' corresponds to what you want to return\n",
    "y_high_probs = [y_pred_probs[i, high_index] for i in range(y_pred_probs.shape[0])]\n",
    "\n",
    "print(\"Just the '1' probabilities:\", y_high_probs[:10])"
   ]
  },
  {
   "cell_type": "code",
   "execution_count": null,
   "metadata": {},
   "outputs": [],
   "source": [
    "average_precision = average_precision_score (y_test, y_high_probs)\n",
    "precisions, recalls, _ = precision_recall_curve(y_test, y_high_probs)\n",
    "#print(precision_recall_curve(y_test, y_high_probs))\n",
    "print('Average precision is', average_precision)\n",
    "plt.plot(recalls, precisions)\n",
    "plt.xlabel('Recall')\n",
    "plt.ylabel('Precision')\n",
    "plt.show()"
   ]
  },
  {
   "cell_type": "code",
   "execution_count": null,
   "metadata": {},
   "outputs": [],
   "source": [
    "features_importances = list(zip(X.columns, model.feature_importances_))\n",
    "features_importances.sort(key=lambda x:x[1], reverse=True)\n",
    "features_importances[:10]"
   ]
  },
  {
   "cell_type": "code",
   "execution_count": null,
   "metadata": {},
   "outputs": [],
   "source": [
    "features_importances = list(zip(X.columns, clf.best_estimator_.feature_importances_))\n",
    "features_importances.sort(key=lambda x:x[1], reverse=True)\n",
    "features_importances[:10]"
   ]
  },
  {
   "cell_type": "code",
   "execution_count": null,
   "metadata": {},
   "outputs": [],
   "source": [
    "features_importances = list(zip(X.columns, clf2.best_estimator_.feature_importances_))\n",
    "features_importances.sort(key=lambda x:x[1], reverse=True)\n",
    "features_importances[:10]"
   ]
  },
  {
   "cell_type": "markdown",
   "metadata": {},
   "source": [
    "boxplots  "
   ]
  },
  {
   "cell_type": "markdown",
   "metadata": {},
   "source": [
    "barplots  \n",
    "features heatmap  \n",
    "zone rating with year"
   ]
  },
  {
   "cell_type": "markdown",
   "metadata": {},
   "source": [
    "how to capture(visualize) features which distinguish between winner and loser  \n",
    "clustering algorithm  \n",
    "threshold"
   ]
  },
  {
   "cell_type": "code",
   "execution_count": null,
   "metadata": {},
   "outputs": [],
   "source": [
    "sns.set()\n",
    "\n",
    "# Plot tip as a function of toal bill across days\n",
    "g = sns.lmplot(x=\"PO\", y=\"InnOuts\", hue=\"GG\",\n",
    "               truncate=True, size=5, data=stats_pre_OF_df)\n",
    "\n",
    "# Use more informative axis labels than are provided by default\n",
    "g.set_axis_labels(\"PO\", \"InnOuts\")\n",
    "\n",
    "sns.plt.show()"
   ]
  },
  {
   "cell_type": "markdown",
   "metadata": {},
   "source": [
    "correlation  \n",
    "factorplot kind=count  \n",
    "countplot"
   ]
  },
  {
   "cell_type": "code",
   "execution_count": null,
   "metadata": {},
   "outputs": [],
   "source": [
    "corr_df = X.corr()\n",
    "corr_df\n",
    "X.head(10)"
   ]
  },
  {
   "cell_type": "code",
   "execution_count": null,
   "metadata": {},
   "outputs": [],
   "source": [
    "sns.set()\n",
    "\n",
    "# Draw a heatmap\n",
    "my_plot = sns.heatmap(corr_df)\n",
    "my_plot.get_figure().savefig('heatmap.png')\n",
    "sns.plt.show()"
   ]
  },
  {
   "cell_type": "code",
   "execution_count": null,
   "metadata": {},
   "outputs": [],
   "source": [
    "g = sns.factorplot(x='previous', hue=\"GG\",\n",
    "                  data=stats_pre_OF_df,\n",
    "                  kind=\"count\")\n",
    "sns.plt.show()"
   ]
  },
  {
   "cell_type": "code",
   "execution_count": null,
   "metadata": {
    "collapsed": true
   },
   "outputs": [],
   "source": []
  }
 ],
 "metadata": {
  "kernelspec": {
   "display_name": "Python 3",
   "language": "python",
   "name": "python3"
  },
  "language_info": {
   "codemirror_mode": {
    "name": "ipython",
    "version": 3
   },
   "file_extension": ".py",
   "mimetype": "text/x-python",
   "name": "python",
   "nbconvert_exporter": "python",
   "pygments_lexer": "ipython3",
   "version": "3.6.1"
  }
 },
 "nbformat": 4,
 "nbformat_minor": 2
}
