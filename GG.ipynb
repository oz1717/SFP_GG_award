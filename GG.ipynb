{
 "cells": [
  {
   "cell_type": "code",
   "execution_count": 1,
   "metadata": {
    "collapsed": true
   },
   "outputs": [],
   "source": [
    "import pandas as pd\n",
    "import numpy as np\n",
    "import matplotlib.pyplot as plt\n",
    "from sklearn.svm import LinearSVC\n",
    "from sklearn.linear_model import LogisticRegression\n",
    "from sklearn.tree import DecisionTreeClassifier\n",
    "from sklearn.model_selection import train_test_split, GridSearchCV\n",
    "from sklearn.metrics import confusion_matrix, classification_report, accuracy_score, average_precision_score, \\\n",
    "precision_recall_curve\n",
    "from sklearn.preprocessing import OneHotEncoder\n",
    "from sklearn.ensemble import RandomForestClassifier, GradientBoostingClassifier"
   ]
  },
  {
   "cell_type": "code",
   "execution_count": 2,
   "metadata": {
    "collapsed": true
   },
   "outputs": [],
   "source": [
    "master_df = pd.read_csv('core/master.csv')\n",
    "awards_df = pd.read_csv('core/AwardsPlayers.csv')\n",
    "batting_df = pd.read_csv('core/Batting.csv')\n",
    "field_df = pd.read_csv('core/Fielding.csv')\n",
    "allstar_df = pd.read_csv('core/AllStarFull.csv')"
   ]
  },
  {
   "cell_type": "code",
   "execution_count": 3,
   "metadata": {
    "collapsed": true
   },
   "outputs": [],
   "source": [
    "gg_df = awards_df[awards_df.awardID=='Gold Glove']"
   ]
  },
  {
   "cell_type": "code",
   "execution_count": 4,
   "metadata": {
    "collapsed": true
   },
   "outputs": [],
   "source": [
    "stats_df = pd.concat([batting_df, field_df])"
   ]
  },
  {
   "cell_type": "code",
   "execution_count": 5,
   "metadata": {
    "collapsed": true
   },
   "outputs": [],
   "source": [
    "stats_df = stats_df[stats_df['yearID']>1956]"
   ]
  },
  {
   "cell_type": "code",
   "execution_count": 6,
   "metadata": {},
   "outputs": [
    {
     "data": {
      "text/html": [
       "<div>\n",
       "<style>\n",
       "    .dataframe thead tr:only-child th {\n",
       "        text-align: right;\n",
       "    }\n",
       "\n",
       "    .dataframe thead th {\n",
       "        text-align: left;\n",
       "    }\n",
       "\n",
       "    .dataframe tbody tr th {\n",
       "        vertical-align: top;\n",
       "    }\n",
       "</style>\n",
       "<table border=\"1\" class=\"dataframe\">\n",
       "  <thead>\n",
       "    <tr style=\"text-align: right;\">\n",
       "      <th></th>\n",
       "      <th>2B</th>\n",
       "      <th>3B</th>\n",
       "      <th>A</th>\n",
       "      <th>AB</th>\n",
       "      <th>BB</th>\n",
       "      <th>CS</th>\n",
       "      <th>DP</th>\n",
       "      <th>E</th>\n",
       "      <th>G</th>\n",
       "      <th>GIDP</th>\n",
       "      <th>...</th>\n",
       "      <th>SF</th>\n",
       "      <th>SH</th>\n",
       "      <th>SO</th>\n",
       "      <th>WP</th>\n",
       "      <th>ZR</th>\n",
       "      <th>lgID</th>\n",
       "      <th>playerID</th>\n",
       "      <th>stint</th>\n",
       "      <th>teamID</th>\n",
       "      <th>yearID</th>\n",
       "    </tr>\n",
       "  </thead>\n",
       "  <tbody>\n",
       "    <tr>\n",
       "      <th>38725</th>\n",
       "      <td>27.0</td>\n",
       "      <td>6.0</td>\n",
       "      <td>NaN</td>\n",
       "      <td>615.0</td>\n",
       "      <td>57.0</td>\n",
       "      <td>1.0</td>\n",
       "      <td>NaN</td>\n",
       "      <td>NaN</td>\n",
       "      <td>151</td>\n",
       "      <td>13.0</td>\n",
       "      <td>...</td>\n",
       "      <td>3.0</td>\n",
       "      <td>0.0</td>\n",
       "      <td>58.0</td>\n",
       "      <td>NaN</td>\n",
       "      <td>NaN</td>\n",
       "      <td>NL</td>\n",
       "      <td>aaronha01</td>\n",
       "      <td>1</td>\n",
       "      <td>ML1</td>\n",
       "      <td>1957</td>\n",
       "    </tr>\n",
       "    <tr>\n",
       "      <th>38726</th>\n",
       "      <td>0.0</td>\n",
       "      <td>0.0</td>\n",
       "      <td>NaN</td>\n",
       "      <td>8.0</td>\n",
       "      <td>1.0</td>\n",
       "      <td>0.0</td>\n",
       "      <td>NaN</td>\n",
       "      <td>NaN</td>\n",
       "      <td>28</td>\n",
       "      <td>0.0</td>\n",
       "      <td>...</td>\n",
       "      <td>0.0</td>\n",
       "      <td>0.0</td>\n",
       "      <td>4.0</td>\n",
       "      <td>NaN</td>\n",
       "      <td>NaN</td>\n",
       "      <td>AL</td>\n",
       "      <td>aberal01</td>\n",
       "      <td>1</td>\n",
       "      <td>DET</td>\n",
       "      <td>1957</td>\n",
       "    </tr>\n",
       "    <tr>\n",
       "      <th>38727</th>\n",
       "      <td>0.0</td>\n",
       "      <td>0.0</td>\n",
       "      <td>NaN</td>\n",
       "      <td>1.0</td>\n",
       "      <td>0.0</td>\n",
       "      <td>0.0</td>\n",
       "      <td>NaN</td>\n",
       "      <td>NaN</td>\n",
       "      <td>3</td>\n",
       "      <td>0.0</td>\n",
       "      <td>...</td>\n",
       "      <td>0.0</td>\n",
       "      <td>0.0</td>\n",
       "      <td>0.0</td>\n",
       "      <td>NaN</td>\n",
       "      <td>NaN</td>\n",
       "      <td>AL</td>\n",
       "      <td>aberal01</td>\n",
       "      <td>2</td>\n",
       "      <td>KC1</td>\n",
       "      <td>1957</td>\n",
       "    </tr>\n",
       "    <tr>\n",
       "      <th>38728</th>\n",
       "      <td>1.0</td>\n",
       "      <td>0.0</td>\n",
       "      <td>NaN</td>\n",
       "      <td>24.0</td>\n",
       "      <td>1.0</td>\n",
       "      <td>0.0</td>\n",
       "      <td>NaN</td>\n",
       "      <td>NaN</td>\n",
       "      <td>26</td>\n",
       "      <td>2.0</td>\n",
       "      <td>...</td>\n",
       "      <td>0.0</td>\n",
       "      <td>2.0</td>\n",
       "      <td>5.0</td>\n",
       "      <td>NaN</td>\n",
       "      <td>NaN</td>\n",
       "      <td>AL</td>\n",
       "      <td>abernte02</td>\n",
       "      <td>1</td>\n",
       "      <td>WS1</td>\n",
       "      <td>1957</td>\n",
       "    </tr>\n",
       "    <tr>\n",
       "      <th>38729</th>\n",
       "      <td>0.0</td>\n",
       "      <td>0.0</td>\n",
       "      <td>NaN</td>\n",
       "      <td>19.0</td>\n",
       "      <td>3.0</td>\n",
       "      <td>0.0</td>\n",
       "      <td>NaN</td>\n",
       "      <td>NaN</td>\n",
       "      <td>49</td>\n",
       "      <td>0.0</td>\n",
       "      <td>...</td>\n",
       "      <td>0.0</td>\n",
       "      <td>2.0</td>\n",
       "      <td>15.0</td>\n",
       "      <td>NaN</td>\n",
       "      <td>NaN</td>\n",
       "      <td>NL</td>\n",
       "      <td>ackerto01</td>\n",
       "      <td>1</td>\n",
       "      <td>CIN</td>\n",
       "      <td>1957</td>\n",
       "    </tr>\n",
       "  </tbody>\n",
       "</table>\n",
       "<p>5 rows × 32 columns</p>\n",
       "</div>"
      ],
      "text/plain": [
       "         2B   3B   A     AB    BB   CS  DP   E    G  GIDP   ...     SF   SH  \\\n",
       "38725  27.0  6.0 NaN  615.0  57.0  1.0 NaN NaN  151  13.0   ...    3.0  0.0   \n",
       "38726   0.0  0.0 NaN    8.0   1.0  0.0 NaN NaN   28   0.0   ...    0.0  0.0   \n",
       "38727   0.0  0.0 NaN    1.0   0.0  0.0 NaN NaN    3   0.0   ...    0.0  0.0   \n",
       "38728   1.0  0.0 NaN   24.0   1.0  0.0 NaN NaN   26   2.0   ...    0.0  2.0   \n",
       "38729   0.0  0.0 NaN   19.0   3.0  0.0 NaN NaN   49   0.0   ...    0.0  2.0   \n",
       "\n",
       "         SO  WP  ZR  lgID   playerID  stint teamID  yearID  \n",
       "38725  58.0 NaN NaN    NL  aaronha01      1    ML1    1957  \n",
       "38726   4.0 NaN NaN    AL   aberal01      1    DET    1957  \n",
       "38727   0.0 NaN NaN    AL   aberal01      2    KC1    1957  \n",
       "38728   5.0 NaN NaN    AL  abernte02      1    WS1    1957  \n",
       "38729  15.0 NaN NaN    NL  ackerto01      1    CIN    1957  \n",
       "\n",
       "[5 rows x 32 columns]"
      ]
     },
     "execution_count": 6,
     "metadata": {},
     "output_type": "execute_result"
    }
   ],
   "source": [
    "stats_df.head()"
   ]
  },
  {
   "cell_type": "code",
   "execution_count": 7,
   "metadata": {},
   "outputs": [
    {
     "data": {
      "text/html": [
       "<div>\n",
       "<style>\n",
       "    .dataframe thead tr:only-child th {\n",
       "        text-align: right;\n",
       "    }\n",
       "\n",
       "    .dataframe thead th {\n",
       "        text-align: left;\n",
       "    }\n",
       "\n",
       "    .dataframe tbody tr th {\n",
       "        vertical-align: top;\n",
       "    }\n",
       "</style>\n",
       "<table border=\"1\" class=\"dataframe\">\n",
       "  <thead>\n",
       "    <tr style=\"text-align: right;\">\n",
       "      <th></th>\n",
       "      <th>playerID</th>\n",
       "      <th>awardID</th>\n",
       "      <th>yearID</th>\n",
       "      <th>lgID</th>\n",
       "      <th>tie</th>\n",
       "      <th>notes</th>\n",
       "    </tr>\n",
       "  </thead>\n",
       "  <tbody>\n",
       "    <tr>\n",
       "      <th>2105</th>\n",
       "      <td>hodgegi01</td>\n",
       "      <td>Gold Glove</td>\n",
       "      <td>1957</td>\n",
       "      <td>ML</td>\n",
       "      <td>NaN</td>\n",
       "      <td>1B</td>\n",
       "    </tr>\n",
       "    <tr>\n",
       "      <th>2106</th>\n",
       "      <td>foxne01</td>\n",
       "      <td>Gold Glove</td>\n",
       "      <td>1957</td>\n",
       "      <td>ML</td>\n",
       "      <td>NaN</td>\n",
       "      <td>2B</td>\n",
       "    </tr>\n",
       "    <tr>\n",
       "      <th>2107</th>\n",
       "      <td>malzofr01</td>\n",
       "      <td>Gold Glove</td>\n",
       "      <td>1957</td>\n",
       "      <td>ML</td>\n",
       "      <td>NaN</td>\n",
       "      <td>3B</td>\n",
       "    </tr>\n",
       "    <tr>\n",
       "      <th>2108</th>\n",
       "      <td>lollash01</td>\n",
       "      <td>Gold Glove</td>\n",
       "      <td>1957</td>\n",
       "      <td>ML</td>\n",
       "      <td>NaN</td>\n",
       "      <td>C</td>\n",
       "    </tr>\n",
       "    <tr>\n",
       "      <th>2109</th>\n",
       "      <td>mayswi01</td>\n",
       "      <td>Gold Glove</td>\n",
       "      <td>1957</td>\n",
       "      <td>ML</td>\n",
       "      <td>NaN</td>\n",
       "      <td>CF</td>\n",
       "    </tr>\n",
       "  </tbody>\n",
       "</table>\n",
       "</div>"
      ],
      "text/plain": [
       "       playerID     awardID  yearID lgID  tie notes\n",
       "2105  hodgegi01  Gold Glove    1957   ML  NaN    1B\n",
       "2106    foxne01  Gold Glove    1957   ML  NaN    2B\n",
       "2107  malzofr01  Gold Glove    1957   ML  NaN    3B\n",
       "2108  lollash01  Gold Glove    1957   ML  NaN     C\n",
       "2109   mayswi01  Gold Glove    1957   ML  NaN    CF"
      ]
     },
     "execution_count": 7,
     "metadata": {},
     "output_type": "execute_result"
    }
   ],
   "source": [
    "gg_df.head()"
   ]
  },
  {
   "cell_type": "code",
   "execution_count": 8,
   "metadata": {},
   "outputs": [
    {
     "data": {
      "text/html": [
       "<div>\n",
       "<style>\n",
       "    .dataframe thead tr:only-child th {\n",
       "        text-align: right;\n",
       "    }\n",
       "\n",
       "    .dataframe thead th {\n",
       "        text-align: left;\n",
       "    }\n",
       "\n",
       "    .dataframe tbody tr th {\n",
       "        vertical-align: top;\n",
       "    }\n",
       "</style>\n",
       "<table border=\"1\" class=\"dataframe\">\n",
       "  <thead>\n",
       "    <tr style=\"text-align: right;\">\n",
       "      <th></th>\n",
       "      <th>playerID</th>\n",
       "      <th>yearID</th>\n",
       "      <th>gameNum</th>\n",
       "      <th>gameID</th>\n",
       "      <th>teamID</th>\n",
       "      <th>lgID</th>\n",
       "      <th>GP</th>\n",
       "      <th>startingPos</th>\n",
       "    </tr>\n",
       "  </thead>\n",
       "  <tbody>\n",
       "    <tr>\n",
       "      <th>0</th>\n",
       "      <td>gomezle01</td>\n",
       "      <td>1933</td>\n",
       "      <td>0</td>\n",
       "      <td>ALS193307060</td>\n",
       "      <td>NYA</td>\n",
       "      <td>AL</td>\n",
       "      <td>1.0</td>\n",
       "      <td>1.0</td>\n",
       "    </tr>\n",
       "    <tr>\n",
       "      <th>1</th>\n",
       "      <td>ferreri01</td>\n",
       "      <td>1933</td>\n",
       "      <td>0</td>\n",
       "      <td>ALS193307060</td>\n",
       "      <td>BOS</td>\n",
       "      <td>AL</td>\n",
       "      <td>1.0</td>\n",
       "      <td>2.0</td>\n",
       "    </tr>\n",
       "    <tr>\n",
       "      <th>2</th>\n",
       "      <td>gehrilo01</td>\n",
       "      <td>1933</td>\n",
       "      <td>0</td>\n",
       "      <td>ALS193307060</td>\n",
       "      <td>NYA</td>\n",
       "      <td>AL</td>\n",
       "      <td>1.0</td>\n",
       "      <td>3.0</td>\n",
       "    </tr>\n",
       "    <tr>\n",
       "      <th>3</th>\n",
       "      <td>gehrich01</td>\n",
       "      <td>1933</td>\n",
       "      <td>0</td>\n",
       "      <td>ALS193307060</td>\n",
       "      <td>DET</td>\n",
       "      <td>AL</td>\n",
       "      <td>1.0</td>\n",
       "      <td>4.0</td>\n",
       "    </tr>\n",
       "    <tr>\n",
       "      <th>4</th>\n",
       "      <td>dykesji01</td>\n",
       "      <td>1933</td>\n",
       "      <td>0</td>\n",
       "      <td>ALS193307060</td>\n",
       "      <td>CHA</td>\n",
       "      <td>AL</td>\n",
       "      <td>1.0</td>\n",
       "      <td>5.0</td>\n",
       "    </tr>\n",
       "  </tbody>\n",
       "</table>\n",
       "</div>"
      ],
      "text/plain": [
       "    playerID  yearID  gameNum        gameID teamID lgID   GP  startingPos\n",
       "0  gomezle01    1933        0  ALS193307060    NYA   AL  1.0          1.0\n",
       "1  ferreri01    1933        0  ALS193307060    BOS   AL  1.0          2.0\n",
       "2  gehrilo01    1933        0  ALS193307060    NYA   AL  1.0          3.0\n",
       "3  gehrich01    1933        0  ALS193307060    DET   AL  1.0          4.0\n",
       "4  dykesji01    1933        0  ALS193307060    CHA   AL  1.0          5.0"
      ]
     },
     "execution_count": 8,
     "metadata": {},
     "output_type": "execute_result"
    }
   ],
   "source": [
    "allstar_df.head()"
   ]
  },
  {
   "cell_type": "code",
   "execution_count": 9,
   "metadata": {},
   "outputs": [],
   "source": [
    "# create a dictionary that gives the all start position corresponding year and player\n",
    "combi_allstar = {}\n",
    "for year, player, pos in zip(allstar_df['yearID'], allstar_df['playerID'], allstar_df['startingPos']):\n",
    "    if pos == 7 or pos == 8 or pos == 9:\n",
    "        combi_allstar[(year, player)] = 1\n",
    "    else:    \n",
    "        combi_allstar[(year, player)] = 0"
   ]
  },
  {
   "cell_type": "code",
   "execution_count": 10,
   "metadata": {
    "collapsed": true
   },
   "outputs": [],
   "source": [
    "def get_allstar(row):\n",
    "\n",
    "    try:\n",
    "        return combi_allstar[(row['yearID'], row['playerID'])]\n",
    "    except KeyError:\n",
    "        return 0"
   ]
  },
  {
   "cell_type": "code",
   "execution_count": 11,
   "metadata": {},
   "outputs": [],
   "source": [
    "stats_df['allstar'] = stats_df.apply(get_allstar, axis = 1)"
   ]
  },
  {
   "cell_type": "code",
   "execution_count": 12,
   "metadata": {
    "collapsed": true
   },
   "outputs": [],
   "source": [
    "# create a dictionary that gives the position corresponding year and player\n",
    "combi = {}\n",
    "for year, player, notes in zip(gg_df['yearID'], gg_df['playerID'], gg_df['notes']):\n",
    "    if notes == 'LF' or notes == 'RF' or notes == 'CF':\n",
    "        combi[(year, player)] = 'OF'\n",
    "    else:    \n",
    "        combi[(year, player)] = notes"
   ]
  },
  {
   "cell_type": "code",
   "execution_count": 13,
   "metadata": {
    "collapsed": true
   },
   "outputs": [],
   "source": [
    "def get_position(row):\n",
    "\n",
    "    try:\n",
    "        return combi[(row['yearID'], row['playerID'])]\n",
    "    except KeyError:\n",
    "        return 'false'\n"
   ]
  },
  {
   "cell_type": "code",
   "execution_count": 14,
   "metadata": {
    "collapsed": true
   },
   "outputs": [],
   "source": [
    "stats_df['GG'] = stats_df.apply(get_position, axis = 1)"
   ]
  },
  {
   "cell_type": "code",
   "execution_count": 15,
   "metadata": {
    "collapsed": true
   },
   "outputs": [],
   "source": [
    "def get_previous(row):\n",
    "\n",
    "    try:\n",
    "        pos = combi[(row['yearID']-1, row['playerID'])]\n",
    "        if pos == 'LF' or pos == 'RF' or pos == 'CF' or pos == 'OF':\n",
    "            return 1\n",
    "        else:\n",
    "            return 0\n",
    "    \n",
    "    except KeyError:\n",
    "        return 0"
   ]
  },
  {
   "cell_type": "code",
   "execution_count": 16,
   "metadata": {},
   "outputs": [],
   "source": [
    "stats_df['previous'] = stats_df.apply(get_previous, axis = 1)\n"
   ]
  },
  {
   "cell_type": "code",
   "execution_count": 17,
   "metadata": {},
   "outputs": [
    {
     "data": {
      "text/plain": [
       "0    146413\n",
       "1       769\n",
       "Name: previous, dtype: int64"
      ]
     },
     "execution_count": 17,
     "metadata": {},
     "output_type": "execute_result"
    }
   ],
   "source": [
    "stats_df.previous.value_counts()"
   ]
  },
  {
   "cell_type": "code",
   "execution_count": 18,
   "metadata": {},
   "outputs": [
    {
     "data": {
      "text/plain": [
       "P     29839\n",
       "OF    16252\n",
       "1B     8667\n",
       "3B     8396\n",
       "2B     7461\n",
       "SS     6520\n",
       "C      5956\n",
       "Name: POS, dtype: int64"
      ]
     },
     "execution_count": 18,
     "metadata": {},
     "output_type": "execute_result"
    }
   ],
   "source": [
    "stats_df.POS.value_counts()"
   ]
  },
  {
   "cell_type": "code",
   "execution_count": 19,
   "metadata": {
    "collapsed": true
   },
   "outputs": [],
   "source": [
    "stats_wona_df = stats_df.apply(lambda x : x.fillna(x.mean()) if x.dtype.kind in 'biufc' else x.fillna('.'))"
   ]
  },
  {
   "cell_type": "code",
   "execution_count": 20,
   "metadata": {
    "scrolled": false
   },
   "outputs": [
    {
     "data": {
      "text/html": [
       "<div>\n",
       "<style>\n",
       "    .dataframe thead tr:only-child th {\n",
       "        text-align: right;\n",
       "    }\n",
       "\n",
       "    .dataframe thead th {\n",
       "        text-align: left;\n",
       "    }\n",
       "\n",
       "    .dataframe tbody tr th {\n",
       "        vertical-align: top;\n",
       "    }\n",
       "</style>\n",
       "<table border=\"1\" class=\"dataframe\">\n",
       "  <thead>\n",
       "    <tr style=\"text-align: right;\">\n",
       "      <th></th>\n",
       "      <th>2B</th>\n",
       "      <th>3B</th>\n",
       "      <th>A</th>\n",
       "      <th>AB</th>\n",
       "      <th>BB</th>\n",
       "      <th>CS</th>\n",
       "      <th>DP</th>\n",
       "      <th>E</th>\n",
       "      <th>G</th>\n",
       "      <th>GIDP</th>\n",
       "      <th>...</th>\n",
       "      <th>WP</th>\n",
       "      <th>ZR</th>\n",
       "      <th>lgID</th>\n",
       "      <th>playerID</th>\n",
       "      <th>stint</th>\n",
       "      <th>teamID</th>\n",
       "      <th>yearID</th>\n",
       "      <th>allstar</th>\n",
       "      <th>GG</th>\n",
       "      <th>previous</th>\n",
       "    </tr>\n",
       "  </thead>\n",
       "  <tbody>\n",
       "    <tr>\n",
       "      <th>38725</th>\n",
       "      <td>27.0</td>\n",
       "      <td>6.0</td>\n",
       "      <td>31.320937</td>\n",
       "      <td>615.0</td>\n",
       "      <td>57.0</td>\n",
       "      <td>1.0</td>\n",
       "      <td>7.386985</td>\n",
       "      <td>2.237487</td>\n",
       "      <td>151</td>\n",
       "      <td>13.0</td>\n",
       "      <td>...</td>\n",
       "      <td>12.015492</td>\n",
       "      <td>0.695152</td>\n",
       "      <td>NL</td>\n",
       "      <td>aaronha01</td>\n",
       "      <td>1</td>\n",
       "      <td>ML1</td>\n",
       "      <td>1957</td>\n",
       "      <td>1</td>\n",
       "      <td>false</td>\n",
       "      <td>0</td>\n",
       "    </tr>\n",
       "    <tr>\n",
       "      <th>38726</th>\n",
       "      <td>0.0</td>\n",
       "      <td>0.0</td>\n",
       "      <td>31.320937</td>\n",
       "      <td>8.0</td>\n",
       "      <td>1.0</td>\n",
       "      <td>0.0</td>\n",
       "      <td>7.386985</td>\n",
       "      <td>2.237487</td>\n",
       "      <td>28</td>\n",
       "      <td>0.0</td>\n",
       "      <td>...</td>\n",
       "      <td>12.015492</td>\n",
       "      <td>0.695152</td>\n",
       "      <td>AL</td>\n",
       "      <td>aberal01</td>\n",
       "      <td>1</td>\n",
       "      <td>DET</td>\n",
       "      <td>1957</td>\n",
       "      <td>0</td>\n",
       "      <td>false</td>\n",
       "      <td>0</td>\n",
       "    </tr>\n",
       "    <tr>\n",
       "      <th>38727</th>\n",
       "      <td>0.0</td>\n",
       "      <td>0.0</td>\n",
       "      <td>31.320937</td>\n",
       "      <td>1.0</td>\n",
       "      <td>0.0</td>\n",
       "      <td>0.0</td>\n",
       "      <td>7.386985</td>\n",
       "      <td>2.237487</td>\n",
       "      <td>3</td>\n",
       "      <td>0.0</td>\n",
       "      <td>...</td>\n",
       "      <td>12.015492</td>\n",
       "      <td>0.695152</td>\n",
       "      <td>AL</td>\n",
       "      <td>aberal01</td>\n",
       "      <td>2</td>\n",
       "      <td>KC1</td>\n",
       "      <td>1957</td>\n",
       "      <td>0</td>\n",
       "      <td>false</td>\n",
       "      <td>0</td>\n",
       "    </tr>\n",
       "    <tr>\n",
       "      <th>38728</th>\n",
       "      <td>1.0</td>\n",
       "      <td>0.0</td>\n",
       "      <td>31.320937</td>\n",
       "      <td>24.0</td>\n",
       "      <td>1.0</td>\n",
       "      <td>0.0</td>\n",
       "      <td>7.386985</td>\n",
       "      <td>2.237487</td>\n",
       "      <td>26</td>\n",
       "      <td>2.0</td>\n",
       "      <td>...</td>\n",
       "      <td>12.015492</td>\n",
       "      <td>0.695152</td>\n",
       "      <td>AL</td>\n",
       "      <td>abernte02</td>\n",
       "      <td>1</td>\n",
       "      <td>WS1</td>\n",
       "      <td>1957</td>\n",
       "      <td>0</td>\n",
       "      <td>false</td>\n",
       "      <td>0</td>\n",
       "    </tr>\n",
       "    <tr>\n",
       "      <th>38729</th>\n",
       "      <td>0.0</td>\n",
       "      <td>0.0</td>\n",
       "      <td>31.320937</td>\n",
       "      <td>19.0</td>\n",
       "      <td>3.0</td>\n",
       "      <td>0.0</td>\n",
       "      <td>7.386985</td>\n",
       "      <td>2.237487</td>\n",
       "      <td>49</td>\n",
       "      <td>0.0</td>\n",
       "      <td>...</td>\n",
       "      <td>12.015492</td>\n",
       "      <td>0.695152</td>\n",
       "      <td>NL</td>\n",
       "      <td>ackerto01</td>\n",
       "      <td>1</td>\n",
       "      <td>CIN</td>\n",
       "      <td>1957</td>\n",
       "      <td>0</td>\n",
       "      <td>false</td>\n",
       "      <td>0</td>\n",
       "    </tr>\n",
       "  </tbody>\n",
       "</table>\n",
       "<p>5 rows × 35 columns</p>\n",
       "</div>"
      ],
      "text/plain": [
       "         2B   3B          A     AB    BB   CS        DP         E    G  GIDP  \\\n",
       "38725  27.0  6.0  31.320937  615.0  57.0  1.0  7.386985  2.237487  151  13.0   \n",
       "38726   0.0  0.0  31.320937    8.0   1.0  0.0  7.386985  2.237487   28   0.0   \n",
       "38727   0.0  0.0  31.320937    1.0   0.0  0.0  7.386985  2.237487    3   0.0   \n",
       "38728   1.0  0.0  31.320937   24.0   1.0  0.0  7.386985  2.237487   26   2.0   \n",
       "38729   0.0  0.0  31.320937   19.0   3.0  0.0  7.386985  2.237487   49   0.0   \n",
       "\n",
       "         ...            WP        ZR  lgID   playerID  stint  teamID  yearID  \\\n",
       "38725    ...     12.015492  0.695152    NL  aaronha01      1     ML1    1957   \n",
       "38726    ...     12.015492  0.695152    AL   aberal01      1     DET    1957   \n",
       "38727    ...     12.015492  0.695152    AL   aberal01      2     KC1    1957   \n",
       "38728    ...     12.015492  0.695152    AL  abernte02      1     WS1    1957   \n",
       "38729    ...     12.015492  0.695152    NL  ackerto01      1     CIN    1957   \n",
       "\n",
       "       allstar     GG  previous  \n",
       "38725        1  false         0  \n",
       "38726        0  false         0  \n",
       "38727        0  false         0  \n",
       "38728        0  false         0  \n",
       "38729        0  false         0  \n",
       "\n",
       "[5 rows x 35 columns]"
      ]
     },
     "execution_count": 20,
     "metadata": {},
     "output_type": "execute_result"
    }
   ],
   "source": [
    "stats_wona_df.head()"
   ]
  },
  {
   "cell_type": "code",
   "execution_count": 21,
   "metadata": {},
   "outputs": [
    {
     "data": {
      "text/plain": [
       "array(['2B', '3B', 'A', 'AB', 'BB', 'CS', 'DP', 'E', 'G', 'GIDP', 'GS',\n",
       "       'H', 'HBP', 'HR', 'IBB', 'InnOuts', 'PB', 'PO', 'POS', 'R', 'RBI',\n",
       "       'SB', 'SF', 'SH', 'SO', 'WP', 'ZR', 'lgID', 'playerID', 'stint',\n",
       "       'teamID', 'yearID', 'allstar', 'GG', 'previous'], dtype=object)"
      ]
     },
     "execution_count": 21,
     "metadata": {},
     "output_type": "execute_result"
    }
   ],
   "source": [
    "stats_wona_df.columns.values"
   ]
  },
  {
   "cell_type": "code",
   "execution_count": 22,
   "metadata": {},
   "outputs": [
    {
     "name": "stderr",
     "output_type": "stream",
     "text": [
      "C:\\Users\\the_b\\Anaconda3\\lib\\site-packages\\pandas\\core\\indexing.py:517: SettingWithCopyWarning: \n",
      "A value is trying to be set on a copy of a slice from a DataFrame.\n",
      "Try using .loc[row_indexer,col_indexer] = value instead\n",
      "\n",
      "See the caveats in the documentation: http://pandas.pydata.org/pandas-docs/stable/indexing.html#indexing-view-versus-copy\n",
      "  self.obj[item] = s\n"
     ]
    }
   ],
   "source": [
    "#stats_pre_df.columns.values\n",
    "stats_OF_df = stats_wona_df[stats_wona_df['POS']=='OF']\n",
    "stats_OF_df.loc[stats_OF_df['GG']!='OF', 'GG'] = 0\n",
    "stats_OF_df.loc[stats_OF_df['GG']=='OF', 'GG'] = 1"
   ]
  },
  {
   "cell_type": "code",
   "execution_count": 23,
   "metadata": {},
   "outputs": [],
   "source": [
    "stats_pre_OF_df = stats_OF_df.drop(['lgID', 'playerID', 'teamID', 'yearID'], axis=1)\n",
    "#stats_pre_OF_df = pd.get_dummies(stats_pre_OF_df, columns=['POS'])"
   ]
  },
  {
   "cell_type": "code",
   "execution_count": 24,
   "metadata": {},
   "outputs": [
    {
     "name": "stdout",
     "output_type": "stream",
     "text": [
      "[[3139   39]\n",
      " [  39   34]]\n",
      "[[12712     0]\n",
      " [    0   289]]\n",
      "             precision    recall  f1-score   support\n",
      "\n",
      "          0       0.99      0.99      0.99      3178\n",
      "          1       0.47      0.47      0.47        73\n",
      "\n",
      "avg / total       0.98      0.98      0.98      3251\n",
      "\n",
      "0.976007382344\n"
     ]
    }
   ],
   "source": [
    "X = stats_pre_OF_df.drop(['GG', 'POS'], axis=1)\n",
    "y = list(stats_pre_OF_df['GG'].values)\n",
    "X_train, X_test, y_train, y_test = train_test_split(X, y, test_size=0.2, random_state=0)\n",
    "\n",
    "\n",
    "model = DecisionTreeClassifier()\n",
    "model.fit(X_train, y_train)\n",
    "predicted = model.predict(X_test)\n",
    "print(confusion_matrix(y_test, predicted))\n",
    "predicted_train = model.predict(X_train)\n",
    "print(confusion_matrix(y_train, predicted_train))\n",
    "target_names = (['0','1'])\n",
    "print(classification_report(y_test,\n",
    "                            predicted,\n",
    "                            target_names=target_names))\n",
    "print(accuracy_score(y_test, predicted))"
   ]
  },
  {
   "cell_type": "code",
   "execution_count": 25,
   "metadata": {},
   "outputs": [
    {
     "name": "stdout",
     "output_type": "stream",
     "text": [
      "[[3163   15]\n",
      " [  45   28]]\n",
      "[[12712     0]\n",
      " [   24   265]]\n",
      "             precision    recall  f1-score   support\n",
      "\n",
      "          0       0.99      1.00      0.99      3178\n",
      "          1       0.65      0.38      0.48        73\n",
      "\n",
      "avg / total       0.98      0.98      0.98      3251\n",
      "\n",
      "0.981544140265\n"
     ]
    }
   ],
   "source": [
    "rf_model = RandomForestClassifier()\n",
    "\n",
    "rf_model.fit(X_train, y_train)\n",
    "predicted = rf_model.predict(X_test)\n",
    "print(confusion_matrix(y_test, predicted))\n",
    "predicted_train = rf_model.predict(X_train)\n",
    "print(confusion_matrix(y_train, predicted_train))\n",
    "target_names = (['0','1'])\n",
    "print(classification_report(y_test,\n",
    "                            predicted,\n",
    "                            target_names=target_names))\n",
    "print(accuracy_score(y_test, predicted))"
   ]
  },
  {
   "cell_type": "code",
   "execution_count": 26,
   "metadata": {},
   "outputs": [
    {
     "name": "stdout",
     "output_type": "stream",
     "text": [
      "Some example probabilities: [[ 1.   0. ]\n",
      " [ 1.   0. ]\n",
      " [ 1.   0. ]\n",
      " [ 1.   0. ]\n",
      " [ 1.   0. ]\n",
      " [ 1.   0. ]\n",
      " [ 1.   0. ]\n",
      " [ 1.   0. ]\n",
      " [ 0.3  0.7]\n",
      " [ 0.9  0.1]]\n",
      "Just the '1' probabilities: [0.0, 0.0, 0.0, 0.0, 0.0, 0.0, 0.0, 0.0, 0.69999999999999996, 0.10000000000000001]\n"
     ]
    }
   ],
   "source": [
    "y_pred_probs = rf_model.predict_proba(X_test)\n",
    "print('Some example probabilities:', y_pred_probs[:10])\n",
    "\n",
    "# y_pred_probs contains probabilities for both '1' and '0'. we only\n",
    "# care about the probabilities of '1', so we extract it below.\n",
    "high_index = rf_model.classes_.tolist().index(1) # this '1' corresponds to what you want to return\n",
    "y_high_probs = [y_pred_probs[i, high_index] for i in range(y_pred_probs.shape[0])]\n",
    "\n",
    "print(\"Just the '1' probabilities:\", y_high_probs[:10])"
   ]
  },
  {
   "cell_type": "code",
   "execution_count": 27,
   "metadata": {},
   "outputs": [
    {
     "name": "stdout",
     "output_type": "stream",
     "text": [
      "(array([ 0.02245463,  0.19677419,  0.32236842,  0.41509434,  0.50649351,\n",
      "        0.55932203,  0.65116279,  0.67647059,  0.89473684,  0.91666667,\n",
      "        1.        ,  1.        ]), array([ 1.        ,  0.83561644,  0.67123288,  0.60273973,  0.53424658,\n",
      "        0.45205479,  0.38356164,  0.31506849,  0.23287671,  0.15068493,\n",
      "        0.04109589,  0.        ]), array([ 0. ,  0.1,  0.2,  0.3,  0.4,  0.5,  0.6,  0.7,  0.8,  0.9,  1. ]))\n",
      "Average precision is 0.533357489807\n"
     ]
    },
    {
     "data": {
      "image/png": "[encoded data removed]",
      "text/plain": [
       "<matplotlib.figure.Figure at 0x2122bfaf390>"
      ]
     },
     "metadata": {},
     "output_type": "display_data"
    }
   ],
   "source": [
    "average_precision = average_precision_score (y_test, y_high_probs)\n",
    "precisions, recalls, _ = precision_recall_curve(y_test, y_high_probs)\n",
    "print(precision_recall_curve(y_test, y_high_probs))\n",
    "print('Average precision is', average_precision)\n",
    "plt.plot(recalls, precisions)\n",
    "plt.xlabel('Recall')\n",
    "plt.ylabel('Precision')\n",
    "plt.show()"
   ]
  },
  {
   "cell_type": "code",
   "execution_count": 28,
   "metadata": {},
   "outputs": [
    {
     "data": {
      "text/plain": [
       "[('previous', 0.3235870568749793),\n",
       " ('PO', 0.14855336985166695),\n",
       " ('InnOuts', 0.13039991377352836),\n",
       " ('GS', 0.12733468942422776),\n",
       " ('A', 0.076613067723899378),\n",
       " ('G', 0.072604839625593887),\n",
       " ('E', 0.060033059404470207),\n",
       " ('DP', 0.042374567246861235),\n",
       " ('allstar', 0.018487462713774227),\n",
       " ('stint', 1.1973360998684346e-05)]"
      ]
     },
     "execution_count": 28,
     "metadata": {},
     "output_type": "execute_result"
    }
   ],
   "source": [
    "features_importances = list(zip(X.columns, model.feature_importances_))\n",
    "features_importances.sort(key=lambda x:x[1], reverse=True)\n",
    "features_importances[:10]"
   ]
  },
  {
   "cell_type": "code",
   "execution_count": 29,
   "metadata": {},
   "outputs": [
    {
     "data": {
      "text/plain": [
       "[('previous', 0.24265499426201628),\n",
       " ('PO', 0.16561036468730184),\n",
       " ('InnOuts', 0.14869891400784851),\n",
       " ('G', 0.10969177398181706),\n",
       " ('GS', 0.093922949729081037),\n",
       " ('A', 0.08010715945258623),\n",
       " ('E', 0.072627906764470701),\n",
       " ('DP', 0.052602423788786525),\n",
       " ('allstar', 0.032466558626412602),\n",
       " ('stint', 0.0016169546996791611)]"
      ]
     },
     "execution_count": 29,
     "metadata": {},
     "output_type": "execute_result"
    }
   ],
   "source": [
    "features_importances = list(zip(X.columns, rf_model.feature_importances_))\n",
    "features_importances.sort(key=lambda x:x[1], reverse=True)\n",
    "features_importances[:10]"
   ]
  },
  {
   "cell_type": "code",
   "execution_count": null,
   "metadata": {
    "collapsed": true
   },
   "outputs": [],
   "source": []
  }
 ],
 "metadata": {
  "kernelspec": {
   "display_name": "Python 3",
   "language": "python",
   "name": "python3"
  },
  "language_info": {
   "codemirror_mode": {
    "name": "ipython",
    "version": 3
   },
   "file_extension": ".py",
   "mimetype": "text/x-python",
   "name": "python",
   "nbconvert_exporter": "python",
   "pygments_lexer": "ipython3",
   "version": "3.6.1"
  }
 },
 "nbformat": 4,
 "nbformat_minor": 2
}
