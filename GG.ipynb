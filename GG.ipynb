{
 "cells": [
  {
   "cell_type": "code",
   "execution_count": 1,
   "metadata": {
    "collapsed": true
   },
   "outputs": [],
   "source": [
    "import pandas as pd\n",
    "import numpy as np\n",
    "import matplotlib.pyplot as plt\n",
    "import seaborn as sns\n",
    "from sklearn.svm import LinearSVC\n",
    "from sklearn.linear_model import LogisticRegression\n",
    "from sklearn.tree import DecisionTreeClassifier\n",
    "from sklearn.model_selection import train_test_split, GridSearchCV\n",
    "from sklearn.metrics import confusion_matrix, classification_report, accuracy_score, average_precision_score, \\\n",
    "precision_recall_curve\n",
    "from sklearn.preprocessing import OneHotEncoder\n",
    "from sklearn.ensemble import RandomForestClassifier, GradientBoostingClassifier"
   ]
  },
  {
   "cell_type": "code",
   "execution_count": 2,
   "metadata": {
    "collapsed": true
   },
   "outputs": [],
   "source": [
    "master_df = pd.read_csv('core/master.csv')\n",
    "awards_df = pd.read_csv('core/AwardsPlayers.csv')\n",
    "batting_df = pd.read_csv('core/Batting.csv')\n",
    "field_df = pd.read_csv('core/Fielding.csv')\n",
    "allstar_df = pd.read_csv('core/AllStarFull.csv')"
   ]
  },
  {
   "cell_type": "code",
   "execution_count": 3,
   "metadata": {
    "collapsed": true
   },
   "outputs": [],
   "source": [
    "gg_df = awards_df[awards_df.awardID=='Gold Glove']"
   ]
  },
  {
   "cell_type": "code",
   "execution_count": 4,
   "metadata": {
    "collapsed": true
   },
   "outputs": [],
   "source": [
    "stats_df = pd.concat([batting_df, field_df])"
   ]
  },
  {
   "cell_type": "code",
   "execution_count": 5,
   "metadata": {
    "collapsed": true
   },
   "outputs": [],
   "source": [
    "stats_df = stats_df[stats_df['yearID']>1956]"
   ]
  },
  {
   "cell_type": "code",
   "execution_count": 6,
   "metadata": {},
   "outputs": [
    {
     "data": {
      "text/html": [
       "<div>\n",
       "<style>\n",
       "    .dataframe thead tr:only-child th {\n",
       "        text-align: right;\n",
       "    }\n",
       "\n",
       "    .dataframe thead th {\n",
       "        text-align: left;\n",
       "    }\n",
       "\n",
       "    .dataframe tbody tr th {\n",
       "        vertical-align: top;\n",
       "    }\n",
       "</style>\n",
       "<table border=\"1\" class=\"dataframe\">\n",
       "  <thead>\n",
       "    <tr style=\"text-align: right;\">\n",
       "      <th></th>\n",
       "      <th>2B</th>\n",
       "      <th>3B</th>\n",
       "      <th>A</th>\n",
       "      <th>AB</th>\n",
       "      <th>BB</th>\n",
       "      <th>CS</th>\n",
       "      <th>DP</th>\n",
       "      <th>E</th>\n",
       "      <th>G</th>\n",
       "      <th>GIDP</th>\n",
       "      <th>...</th>\n",
       "      <th>SF</th>\n",
       "      <th>SH</th>\n",
       "      <th>SO</th>\n",
       "      <th>WP</th>\n",
       "      <th>ZR</th>\n",
       "      <th>lgID</th>\n",
       "      <th>playerID</th>\n",
       "      <th>stint</th>\n",
       "      <th>teamID</th>\n",
       "      <th>yearID</th>\n",
       "    </tr>\n",
       "  </thead>\n",
       "  <tbody>\n",
       "    <tr>\n",
       "      <th>38725</th>\n",
       "      <td>27.0</td>\n",
       "      <td>6.0</td>\n",
       "      <td>NaN</td>\n",
       "      <td>615.0</td>\n",
       "      <td>57.0</td>\n",
       "      <td>1.0</td>\n",
       "      <td>NaN</td>\n",
       "      <td>NaN</td>\n",
       "      <td>151</td>\n",
       "      <td>13.0</td>\n",
       "      <td>...</td>\n",
       "      <td>3.0</td>\n",
       "      <td>0.0</td>\n",
       "      <td>58.0</td>\n",
       "      <td>NaN</td>\n",
       "      <td>NaN</td>\n",
       "      <td>NL</td>\n",
       "      <td>aaronha01</td>\n",
       "      <td>1</td>\n",
       "      <td>ML1</td>\n",
       "      <td>1957</td>\n",
       "    </tr>\n",
       "    <tr>\n",
       "      <th>38726</th>\n",
       "      <td>0.0</td>\n",
       "      <td>0.0</td>\n",
       "      <td>NaN</td>\n",
       "      <td>8.0</td>\n",
       "      <td>1.0</td>\n",
       "      <td>0.0</td>\n",
       "      <td>NaN</td>\n",
       "      <td>NaN</td>\n",
       "      <td>28</td>\n",
       "      <td>0.0</td>\n",
       "      <td>...</td>\n",
       "      <td>0.0</td>\n",
       "      <td>0.0</td>\n",
       "      <td>4.0</td>\n",
       "      <td>NaN</td>\n",
       "      <td>NaN</td>\n",
       "      <td>AL</td>\n",
       "      <td>aberal01</td>\n",
       "      <td>1</td>\n",
       "      <td>DET</td>\n",
       "      <td>1957</td>\n",
       "    </tr>\n",
       "    <tr>\n",
       "      <th>38727</th>\n",
       "      <td>0.0</td>\n",
       "      <td>0.0</td>\n",
       "      <td>NaN</td>\n",
       "      <td>1.0</td>\n",
       "      <td>0.0</td>\n",
       "      <td>0.0</td>\n",
       "      <td>NaN</td>\n",
       "      <td>NaN</td>\n",
       "      <td>3</td>\n",
       "      <td>0.0</td>\n",
       "      <td>...</td>\n",
       "      <td>0.0</td>\n",
       "      <td>0.0</td>\n",
       "      <td>0.0</td>\n",
       "      <td>NaN</td>\n",
       "      <td>NaN</td>\n",
       "      <td>AL</td>\n",
       "      <td>aberal01</td>\n",
       "      <td>2</td>\n",
       "      <td>KC1</td>\n",
       "      <td>1957</td>\n",
       "    </tr>\n",
       "    <tr>\n",
       "      <th>38728</th>\n",
       "      <td>1.0</td>\n",
       "      <td>0.0</td>\n",
       "      <td>NaN</td>\n",
       "      <td>24.0</td>\n",
       "      <td>1.0</td>\n",
       "      <td>0.0</td>\n",
       "      <td>NaN</td>\n",
       "      <td>NaN</td>\n",
       "      <td>26</td>\n",
       "      <td>2.0</td>\n",
       "      <td>...</td>\n",
       "      <td>0.0</td>\n",
       "      <td>2.0</td>\n",
       "      <td>5.0</td>\n",
       "      <td>NaN</td>\n",
       "      <td>NaN</td>\n",
       "      <td>AL</td>\n",
       "      <td>abernte02</td>\n",
       "      <td>1</td>\n",
       "      <td>WS1</td>\n",
       "      <td>1957</td>\n",
       "    </tr>\n",
       "    <tr>\n",
       "      <th>38729</th>\n",
       "      <td>0.0</td>\n",
       "      <td>0.0</td>\n",
       "      <td>NaN</td>\n",
       "      <td>19.0</td>\n",
       "      <td>3.0</td>\n",
       "      <td>0.0</td>\n",
       "      <td>NaN</td>\n",
       "      <td>NaN</td>\n",
       "      <td>49</td>\n",
       "      <td>0.0</td>\n",
       "      <td>...</td>\n",
       "      <td>0.0</td>\n",
       "      <td>2.0</td>\n",
       "      <td>15.0</td>\n",
       "      <td>NaN</td>\n",
       "      <td>NaN</td>\n",
       "      <td>NL</td>\n",
       "      <td>ackerto01</td>\n",
       "      <td>1</td>\n",
       "      <td>CIN</td>\n",
       "      <td>1957</td>\n",
       "    </tr>\n",
       "  </tbody>\n",
       "</table>\n",
       "<p>5 rows × 32 columns</p>\n",
       "</div>"
      ],
      "text/plain": [
       "         2B   3B   A     AB    BB   CS  DP   E    G  GIDP   ...     SF   SH  \\\n",
       "38725  27.0  6.0 NaN  615.0  57.0  1.0 NaN NaN  151  13.0   ...    3.0  0.0   \n",
       "38726   0.0  0.0 NaN    8.0   1.0  0.0 NaN NaN   28   0.0   ...    0.0  0.0   \n",
       "38727   0.0  0.0 NaN    1.0   0.0  0.0 NaN NaN    3   0.0   ...    0.0  0.0   \n",
       "38728   1.0  0.0 NaN   24.0   1.0  0.0 NaN NaN   26   2.0   ...    0.0  2.0   \n",
       "38729   0.0  0.0 NaN   19.0   3.0  0.0 NaN NaN   49   0.0   ...    0.0  2.0   \n",
       "\n",
       "         SO  WP  ZR  lgID   playerID  stint teamID  yearID  \n",
       "38725  58.0 NaN NaN    NL  aaronha01      1    ML1    1957  \n",
       "38726   4.0 NaN NaN    AL   aberal01      1    DET    1957  \n",
       "38727   0.0 NaN NaN    AL   aberal01      2    KC1    1957  \n",
       "38728   5.0 NaN NaN    AL  abernte02      1    WS1    1957  \n",
       "38729  15.0 NaN NaN    NL  ackerto01      1    CIN    1957  \n",
       "\n",
       "[5 rows x 32 columns]"
      ]
     },
     "execution_count": 6,
     "metadata": {},
     "output_type": "execute_result"
    }
   ],
   "source": [
    "stats_df.head()"
   ]
  },
  {
   "cell_type": "code",
   "execution_count": 7,
   "metadata": {},
   "outputs": [
    {
     "data": {
      "text/html": [
       "<div>\n",
       "<style>\n",
       "    .dataframe thead tr:only-child th {\n",
       "        text-align: right;\n",
       "    }\n",
       "\n",
       "    .dataframe thead th {\n",
       "        text-align: left;\n",
       "    }\n",
       "\n",
       "    .dataframe tbody tr th {\n",
       "        vertical-align: top;\n",
       "    }\n",
       "</style>\n",
       "<table border=\"1\" class=\"dataframe\">\n",
       "  <thead>\n",
       "    <tr style=\"text-align: right;\">\n",
       "      <th></th>\n",
       "      <th>playerID</th>\n",
       "      <th>awardID</th>\n",
       "      <th>yearID</th>\n",
       "      <th>lgID</th>\n",
       "      <th>tie</th>\n",
       "      <th>notes</th>\n",
       "    </tr>\n",
       "  </thead>\n",
       "  <tbody>\n",
       "    <tr>\n",
       "      <th>2105</th>\n",
       "      <td>hodgegi01</td>\n",
       "      <td>Gold Glove</td>\n",
       "      <td>1957</td>\n",
       "      <td>ML</td>\n",
       "      <td>NaN</td>\n",
       "      <td>1B</td>\n",
       "    </tr>\n",
       "    <tr>\n",
       "      <th>2106</th>\n",
       "      <td>foxne01</td>\n",
       "      <td>Gold Glove</td>\n",
       "      <td>1957</td>\n",
       "      <td>ML</td>\n",
       "      <td>NaN</td>\n",
       "      <td>2B</td>\n",
       "    </tr>\n",
       "    <tr>\n",
       "      <th>2107</th>\n",
       "      <td>malzofr01</td>\n",
       "      <td>Gold Glove</td>\n",
       "      <td>1957</td>\n",
       "      <td>ML</td>\n",
       "      <td>NaN</td>\n",
       "      <td>3B</td>\n",
       "    </tr>\n",
       "    <tr>\n",
       "      <th>2108</th>\n",
       "      <td>lollash01</td>\n",
       "      <td>Gold Glove</td>\n",
       "      <td>1957</td>\n",
       "      <td>ML</td>\n",
       "      <td>NaN</td>\n",
       "      <td>C</td>\n",
       "    </tr>\n",
       "    <tr>\n",
       "      <th>2109</th>\n",
       "      <td>mayswi01</td>\n",
       "      <td>Gold Glove</td>\n",
       "      <td>1957</td>\n",
       "      <td>ML</td>\n",
       "      <td>NaN</td>\n",
       "      <td>CF</td>\n",
       "    </tr>\n",
       "  </tbody>\n",
       "</table>\n",
       "</div>"
      ],
      "text/plain": [
       "       playerID     awardID  yearID lgID  tie notes\n",
       "2105  hodgegi01  Gold Glove    1957   ML  NaN    1B\n",
       "2106    foxne01  Gold Glove    1957   ML  NaN    2B\n",
       "2107  malzofr01  Gold Glove    1957   ML  NaN    3B\n",
       "2108  lollash01  Gold Glove    1957   ML  NaN     C\n",
       "2109   mayswi01  Gold Glove    1957   ML  NaN    CF"
      ]
     },
     "execution_count": 7,
     "metadata": {},
     "output_type": "execute_result"
    }
   ],
   "source": [
    "gg_df.head()"
   ]
  },
  {
   "cell_type": "code",
   "execution_count": 8,
   "metadata": {},
   "outputs": [
    {
     "data": {
      "text/html": [
       "<div>\n",
       "<style>\n",
       "    .dataframe thead tr:only-child th {\n",
       "        text-align: right;\n",
       "    }\n",
       "\n",
       "    .dataframe thead th {\n",
       "        text-align: left;\n",
       "    }\n",
       "\n",
       "    .dataframe tbody tr th {\n",
       "        vertical-align: top;\n",
       "    }\n",
       "</style>\n",
       "<table border=\"1\" class=\"dataframe\">\n",
       "  <thead>\n",
       "    <tr style=\"text-align: right;\">\n",
       "      <th></th>\n",
       "      <th>playerID</th>\n",
       "      <th>yearID</th>\n",
       "      <th>gameNum</th>\n",
       "      <th>gameID</th>\n",
       "      <th>teamID</th>\n",
       "      <th>lgID</th>\n",
       "      <th>GP</th>\n",
       "      <th>startingPos</th>\n",
       "    </tr>\n",
       "  </thead>\n",
       "  <tbody>\n",
       "    <tr>\n",
       "      <th>0</th>\n",
       "      <td>gomezle01</td>\n",
       "      <td>1933</td>\n",
       "      <td>0</td>\n",
       "      <td>ALS193307060</td>\n",
       "      <td>NYA</td>\n",
       "      <td>AL</td>\n",
       "      <td>1.0</td>\n",
       "      <td>1.0</td>\n",
       "    </tr>\n",
       "    <tr>\n",
       "      <th>1</th>\n",
       "      <td>ferreri01</td>\n",
       "      <td>1933</td>\n",
       "      <td>0</td>\n",
       "      <td>ALS193307060</td>\n",
       "      <td>BOS</td>\n",
       "      <td>AL</td>\n",
       "      <td>1.0</td>\n",
       "      <td>2.0</td>\n",
       "    </tr>\n",
       "    <tr>\n",
       "      <th>2</th>\n",
       "      <td>gehrilo01</td>\n",
       "      <td>1933</td>\n",
       "      <td>0</td>\n",
       "      <td>ALS193307060</td>\n",
       "      <td>NYA</td>\n",
       "      <td>AL</td>\n",
       "      <td>1.0</td>\n",
       "      <td>3.0</td>\n",
       "    </tr>\n",
       "    <tr>\n",
       "      <th>3</th>\n",
       "      <td>gehrich01</td>\n",
       "      <td>1933</td>\n",
       "      <td>0</td>\n",
       "      <td>ALS193307060</td>\n",
       "      <td>DET</td>\n",
       "      <td>AL</td>\n",
       "      <td>1.0</td>\n",
       "      <td>4.0</td>\n",
       "    </tr>\n",
       "    <tr>\n",
       "      <th>4</th>\n",
       "      <td>dykesji01</td>\n",
       "      <td>1933</td>\n",
       "      <td>0</td>\n",
       "      <td>ALS193307060</td>\n",
       "      <td>CHA</td>\n",
       "      <td>AL</td>\n",
       "      <td>1.0</td>\n",
       "      <td>5.0</td>\n",
       "    </tr>\n",
       "  </tbody>\n",
       "</table>\n",
       "</div>"
      ],
      "text/plain": [
       "    playerID  yearID  gameNum        gameID teamID lgID   GP  startingPos\n",
       "0  gomezle01    1933        0  ALS193307060    NYA   AL  1.0          1.0\n",
       "1  ferreri01    1933        0  ALS193307060    BOS   AL  1.0          2.0\n",
       "2  gehrilo01    1933        0  ALS193307060    NYA   AL  1.0          3.0\n",
       "3  gehrich01    1933        0  ALS193307060    DET   AL  1.0          4.0\n",
       "4  dykesji01    1933        0  ALS193307060    CHA   AL  1.0          5.0"
      ]
     },
     "execution_count": 8,
     "metadata": {},
     "output_type": "execute_result"
    }
   ],
   "source": [
    "allstar_df.head()"
   ]
  },
  {
   "cell_type": "code",
   "execution_count": 9,
   "metadata": {
    "collapsed": true
   },
   "outputs": [],
   "source": [
    "# create a dictionary that gives the all start position corresponding year and player\n",
    "combi_allstar = {}\n",
    "for year, player, pos in zip(allstar_df['yearID'], allstar_df['playerID'], allstar_df['startingPos']):\n",
    "    if pos == 7 or pos == 8 or pos == 9:\n",
    "        combi_allstar[(year, player)] = 1\n",
    "    else:    \n",
    "        combi_allstar[(year, player)] = 0"
   ]
  },
  {
   "cell_type": "code",
   "execution_count": 10,
   "metadata": {
    "collapsed": true
   },
   "outputs": [],
   "source": [
    "def get_allstar(row):\n",
    "\n",
    "    try:\n",
    "        return combi_allstar[(row['yearID'], row['playerID'])]\n",
    "    except KeyError:\n",
    "        return 0"
   ]
  },
  {
   "cell_type": "code",
   "execution_count": 11,
   "metadata": {
    "collapsed": true
   },
   "outputs": [],
   "source": [
    "stats_df['allstar'] = stats_df.apply(get_allstar, axis = 1)"
   ]
  },
  {
   "cell_type": "code",
   "execution_count": 12,
   "metadata": {
    "collapsed": true
   },
   "outputs": [],
   "source": [
    "# create a dictionary that gives the position corresponding year and player\n",
    "combi = {}\n",
    "for year, player, notes in zip(gg_df['yearID'], gg_df['playerID'], gg_df['notes']):\n",
    "    if notes == 'LF' or notes == 'RF' or notes == 'CF':\n",
    "        combi[(year, player)] = 'OF'\n",
    "    else:    \n",
    "        combi[(year, player)] = notes"
   ]
  },
  {
   "cell_type": "code",
   "execution_count": 13,
   "metadata": {
    "collapsed": true
   },
   "outputs": [],
   "source": [
    "def get_position(row):\n",
    "\n",
    "    try:\n",
    "        return combi[(row['yearID'], row['playerID'])]\n",
    "    except KeyError:\n",
    "        return 'false'\n"
   ]
  },
  {
   "cell_type": "code",
   "execution_count": 14,
   "metadata": {
    "collapsed": true
   },
   "outputs": [],
   "source": [
    "stats_df['GG'] = stats_df.apply(get_position, axis = 1)"
   ]
  },
  {
   "cell_type": "code",
   "execution_count": 15,
   "metadata": {
    "collapsed": true
   },
   "outputs": [],
   "source": [
    "def get_previous(row):\n",
    "\n",
    "    try:\n",
    "        i = 1\n",
    "        num = 0\n",
    "        while combi.get((row['yearID']-i, row['playerID']), False):\n",
    "            pos = combi[(row['yearID']-i, row['playerID'])]\n",
    "            if pos == 'LF' or pos == 'RF' or pos == 'CF' or pos == 'OF':\n",
    "                num += 1\n",
    "                \n",
    "            i += 1\n",
    "            \n",
    "        return num            \n",
    "    \n",
    "    except KeyError:\n",
    "        return 0"
   ]
  },
  {
   "cell_type": "code",
   "execution_count": 16,
   "metadata": {
    "collapsed": true
   },
   "outputs": [],
   "source": [
    "stats_df['previous'] = stats_df.apply(get_previous, axis = 1)\n"
   ]
  },
  {
   "cell_type": "code",
   "execution_count": 17,
   "metadata": {},
   "outputs": [
    {
     "data": {
      "text/plain": [
       "0     146413\n",
       "1        339\n",
       "2        143\n",
       "3         91\n",
       "4         60\n",
       "5         40\n",
       "6         29\n",
       "7         22\n",
       "8         15\n",
       "9         12\n",
       "10        10\n",
       "11         5\n",
       "12         3\n",
       "Name: previous, dtype: int64"
      ]
     },
     "execution_count": 17,
     "metadata": {},
     "output_type": "execute_result"
    }
   ],
   "source": [
    "stats_df.previous.value_counts()"
   ]
  },
  {
   "cell_type": "code",
   "execution_count": 18,
   "metadata": {},
   "outputs": [
    {
     "data": {
      "text/plain": [
       "P     29839\n",
       "OF    16252\n",
       "1B     8667\n",
       "3B     8396\n",
       "2B     7461\n",
       "SS     6520\n",
       "C      5956\n",
       "Name: POS, dtype: int64"
      ]
     },
     "execution_count": 18,
     "metadata": {},
     "output_type": "execute_result"
    }
   ],
   "source": [
    "stats_df.POS.value_counts()"
   ]
  },
  {
   "cell_type": "code",
   "execution_count": 19,
   "metadata": {
    "collapsed": true
   },
   "outputs": [],
   "source": [
    "stats_wona_df = stats_df.apply(lambda x : x.fillna(x.mean()) if x.dtype.kind in 'biufc' else x.fillna('.'))"
   ]
  },
  {
   "cell_type": "code",
   "execution_count": 20,
   "metadata": {
    "scrolled": false
   },
   "outputs": [
    {
     "data": {
      "text/html": [
       "<div>\n",
       "<style>\n",
       "    .dataframe thead tr:only-child th {\n",
       "        text-align: right;\n",
       "    }\n",
       "\n",
       "    .dataframe thead th {\n",
       "        text-align: left;\n",
       "    }\n",
       "\n",
       "    .dataframe tbody tr th {\n",
       "        vertical-align: top;\n",
       "    }\n",
       "</style>\n",
       "<table border=\"1\" class=\"dataframe\">\n",
       "  <thead>\n",
       "    <tr style=\"text-align: right;\">\n",
       "      <th></th>\n",
       "      <th>2B</th>\n",
       "      <th>3B</th>\n",
       "      <th>A</th>\n",
       "      <th>AB</th>\n",
       "      <th>BB</th>\n",
       "      <th>CS</th>\n",
       "      <th>DP</th>\n",
       "      <th>E</th>\n",
       "      <th>G</th>\n",
       "      <th>GIDP</th>\n",
       "      <th>...</th>\n",
       "      <th>WP</th>\n",
       "      <th>ZR</th>\n",
       "      <th>lgID</th>\n",
       "      <th>playerID</th>\n",
       "      <th>stint</th>\n",
       "      <th>teamID</th>\n",
       "      <th>yearID</th>\n",
       "      <th>allstar</th>\n",
       "      <th>GG</th>\n",
       "      <th>previous</th>\n",
       "    </tr>\n",
       "  </thead>\n",
       "  <tbody>\n",
       "    <tr>\n",
       "      <th>38725</th>\n",
       "      <td>27.0</td>\n",
       "      <td>6.0</td>\n",
       "      <td>31.320937</td>\n",
       "      <td>615.0</td>\n",
       "      <td>57.0</td>\n",
       "      <td>1.0</td>\n",
       "      <td>7.386985</td>\n",
       "      <td>2.237487</td>\n",
       "      <td>151</td>\n",
       "      <td>13.0</td>\n",
       "      <td>...</td>\n",
       "      <td>12.015492</td>\n",
       "      <td>0.695152</td>\n",
       "      <td>NL</td>\n",
       "      <td>aaronha01</td>\n",
       "      <td>1</td>\n",
       "      <td>ML1</td>\n",
       "      <td>1957</td>\n",
       "      <td>1</td>\n",
       "      <td>false</td>\n",
       "      <td>0</td>\n",
       "    </tr>\n",
       "    <tr>\n",
       "      <th>38726</th>\n",
       "      <td>0.0</td>\n",
       "      <td>0.0</td>\n",
       "      <td>31.320937</td>\n",
       "      <td>8.0</td>\n",
       "      <td>1.0</td>\n",
       "      <td>0.0</td>\n",
       "      <td>7.386985</td>\n",
       "      <td>2.237487</td>\n",
       "      <td>28</td>\n",
       "      <td>0.0</td>\n",
       "      <td>...</td>\n",
       "      <td>12.015492</td>\n",
       "      <td>0.695152</td>\n",
       "      <td>AL</td>\n",
       "      <td>aberal01</td>\n",
       "      <td>1</td>\n",
       "      <td>DET</td>\n",
       "      <td>1957</td>\n",
       "      <td>0</td>\n",
       "      <td>false</td>\n",
       "      <td>0</td>\n",
       "    </tr>\n",
       "    <tr>\n",
       "      <th>38727</th>\n",
       "      <td>0.0</td>\n",
       "      <td>0.0</td>\n",
       "      <td>31.320937</td>\n",
       "      <td>1.0</td>\n",
       "      <td>0.0</td>\n",
       "      <td>0.0</td>\n",
       "      <td>7.386985</td>\n",
       "      <td>2.237487</td>\n",
       "      <td>3</td>\n",
       "      <td>0.0</td>\n",
       "      <td>...</td>\n",
       "      <td>12.015492</td>\n",
       "      <td>0.695152</td>\n",
       "      <td>AL</td>\n",
       "      <td>aberal01</td>\n",
       "      <td>2</td>\n",
       "      <td>KC1</td>\n",
       "      <td>1957</td>\n",
       "      <td>0</td>\n",
       "      <td>false</td>\n",
       "      <td>0</td>\n",
       "    </tr>\n",
       "    <tr>\n",
       "      <th>38728</th>\n",
       "      <td>1.0</td>\n",
       "      <td>0.0</td>\n",
       "      <td>31.320937</td>\n",
       "      <td>24.0</td>\n",
       "      <td>1.0</td>\n",
       "      <td>0.0</td>\n",
       "      <td>7.386985</td>\n",
       "      <td>2.237487</td>\n",
       "      <td>26</td>\n",
       "      <td>2.0</td>\n",
       "      <td>...</td>\n",
       "      <td>12.015492</td>\n",
       "      <td>0.695152</td>\n",
       "      <td>AL</td>\n",
       "      <td>abernte02</td>\n",
       "      <td>1</td>\n",
       "      <td>WS1</td>\n",
       "      <td>1957</td>\n",
       "      <td>0</td>\n",
       "      <td>false</td>\n",
       "      <td>0</td>\n",
       "    </tr>\n",
       "    <tr>\n",
       "      <th>38729</th>\n",
       "      <td>0.0</td>\n",
       "      <td>0.0</td>\n",
       "      <td>31.320937</td>\n",
       "      <td>19.0</td>\n",
       "      <td>3.0</td>\n",
       "      <td>0.0</td>\n",
       "      <td>7.386985</td>\n",
       "      <td>2.237487</td>\n",
       "      <td>49</td>\n",
       "      <td>0.0</td>\n",
       "      <td>...</td>\n",
       "      <td>12.015492</td>\n",
       "      <td>0.695152</td>\n",
       "      <td>NL</td>\n",
       "      <td>ackerto01</td>\n",
       "      <td>1</td>\n",
       "      <td>CIN</td>\n",
       "      <td>1957</td>\n",
       "      <td>0</td>\n",
       "      <td>false</td>\n",
       "      <td>0</td>\n",
       "    </tr>\n",
       "  </tbody>\n",
       "</table>\n",
       "<p>5 rows × 35 columns</p>\n",
       "</div>"
      ],
      "text/plain": [
       "         2B   3B          A     AB    BB   CS        DP         E    G  GIDP  \\\n",
       "38725  27.0  6.0  31.320937  615.0  57.0  1.0  7.386985  2.237487  151  13.0   \n",
       "38726   0.0  0.0  31.320937    8.0   1.0  0.0  7.386985  2.237487   28   0.0   \n",
       "38727   0.0  0.0  31.320937    1.0   0.0  0.0  7.386985  2.237487    3   0.0   \n",
       "38728   1.0  0.0  31.320937   24.0   1.0  0.0  7.386985  2.237487   26   2.0   \n",
       "38729   0.0  0.0  31.320937   19.0   3.0  0.0  7.386985  2.237487   49   0.0   \n",
       "\n",
       "         ...            WP        ZR  lgID   playerID  stint  teamID  yearID  \\\n",
       "38725    ...     12.015492  0.695152    NL  aaronha01      1     ML1    1957   \n",
       "38726    ...     12.015492  0.695152    AL   aberal01      1     DET    1957   \n",
       "38727    ...     12.015492  0.695152    AL   aberal01      2     KC1    1957   \n",
       "38728    ...     12.015492  0.695152    AL  abernte02      1     WS1    1957   \n",
       "38729    ...     12.015492  0.695152    NL  ackerto01      1     CIN    1957   \n",
       "\n",
       "       allstar     GG  previous  \n",
       "38725        1  false         0  \n",
       "38726        0  false         0  \n",
       "38727        0  false         0  \n",
       "38728        0  false         0  \n",
       "38729        0  false         0  \n",
       "\n",
       "[5 rows x 35 columns]"
      ]
     },
     "execution_count": 20,
     "metadata": {},
     "output_type": "execute_result"
    }
   ],
   "source": [
    "stats_wona_df.head()"
   ]
  },
  {
   "cell_type": "code",
   "execution_count": 21,
   "metadata": {},
   "outputs": [
    {
     "data": {
      "text/plain": [
       "array(['2B', '3B', 'A', 'AB', 'BB', 'CS', 'DP', 'E', 'G', 'GIDP', 'GS',\n",
       "       'H', 'HBP', 'HR', 'IBB', 'InnOuts', 'PB', 'PO', 'POS', 'R', 'RBI',\n",
       "       'SB', 'SF', 'SH', 'SO', 'WP', 'ZR', 'lgID', 'playerID', 'stint',\n",
       "       'teamID', 'yearID', 'allstar', 'GG', 'previous'], dtype=object)"
      ]
     },
     "execution_count": 21,
     "metadata": {},
     "output_type": "execute_result"
    }
   ],
   "source": [
    "stats_wona_df.columns.values"
   ]
  },
  {
   "cell_type": "code",
   "execution_count": 22,
   "metadata": {},
   "outputs": [
    {
     "name": "stderr",
     "output_type": "stream",
     "text": [
      "C:\\Users\\the_b\\Anaconda3\\lib\\site-packages\\pandas\\core\\indexing.py:517: SettingWithCopyWarning: \n",
      "A value is trying to be set on a copy of a slice from a DataFrame.\n",
      "Try using .loc[row_indexer,col_indexer] = value instead\n",
      "\n",
      "See the caveats in the documentation: http://pandas.pydata.org/pandas-docs/stable/indexing.html#indexing-view-versus-copy\n",
      "  self.obj[item] = s\n"
     ]
    }
   ],
   "source": [
    "#stats_pre_df.columns.values\n",
    "stats_OF_df = stats_wona_df[stats_wona_df['POS']=='OF']\n",
    "stats_OF_df.loc[stats_OF_df['GG']!='OF', 'GG'] = 0\n",
    "stats_OF_df.loc[stats_OF_df['GG']=='OF', 'GG'] = 1"
   ]
  },
  {
   "cell_type": "code",
   "execution_count": 23,
   "metadata": {
    "collapsed": true
   },
   "outputs": [],
   "source": [
    "stats_pre_OF_df = stats_OF_df.drop(['lgID', 'playerID', 'teamID'], axis=1)\n",
    "#stats_pre_OF_df = pd.get_dummies(stats_pre_OF_df, columns=['POS'])"
   ]
  },
  {
   "cell_type": "code",
   "execution_count": 24,
   "metadata": {},
   "outputs": [
    {
     "name": "stdout",
     "output_type": "stream",
     "text": [
      "[[3120   58]\n",
      " [  39   34]]\n",
      "[[12712     0]\n",
      " [    0   289]]\n",
      "             precision    recall  f1-score   support\n",
      "\n",
      "          0       0.99      0.98      0.98      3178\n",
      "          1       0.37      0.47      0.41        73\n",
      "\n",
      "avg / total       0.97      0.97      0.97      3251\n",
      "\n",
      "0.970163026761\n"
     ]
    }
   ],
   "source": [
    "X = stats_pre_OF_df.drop(['GG', 'POS'], axis=1)\n",
    "y = list(stats_pre_OF_df['GG'].values)\n",
    "X_train, X_test, y_train, y_test = train_test_split(X, y, test_size=0.2, random_state=0)\n",
    "\n",
    "\n",
    "model = DecisionTreeClassifier()\n",
    "model.fit(X_train, y_train)\n",
    "predicted = model.predict(X_test)\n",
    "print(confusion_matrix(y_test, predicted))\n",
    "predicted_train = model.predict(X_train)\n",
    "print(confusion_matrix(y_train, predicted_train))\n",
    "target_names = (['0','1'])\n",
    "print(classification_report(y_test,\n",
    "                            predicted,\n",
    "                            target_names=target_names))\n",
    "print(accuracy_score(y_test, predicted))"
   ]
  },
  {
   "cell_type": "code",
   "execution_count": 49,
   "metadata": {},
   "outputs": [
    {
     "name": "stdout",
     "output_type": "stream",
     "text": [
      "[[3163   15]\n",
      " [  38   35]]\n",
      "[[12712     0]\n",
      " [    1   288]]\n",
      "             precision    recall  f1-score   support\n",
      "\n",
      "          0       0.99      1.00      0.99      3178\n",
      "          1       0.70      0.48      0.57        73\n",
      "\n",
      "avg / total       0.98      0.98      0.98      3251\n",
      "\n",
      "0.9836973239\n"
     ]
    }
   ],
   "source": [
    "rf_model = RandomForestClassifier(n_estimators=100)\n",
    "\n",
    "rf_model.fit(X_train, y_train)\n",
    "predicted = rf_model.predict(X_test)\n",
    "print(confusion_matrix(y_test, predicted))\n",
    "predicted_train = rf_model.predict(X_train)\n",
    "print(confusion_matrix(y_train, predicted_train))\n",
    "target_names = (['0','1'])\n",
    "print(classification_report(y_test,\n",
    "                            predicted,\n",
    "                            target_names=target_names))\n",
    "print(accuracy_score(y_test, predicted))"
   ]
  },
  {
   "cell_type": "code",
   "execution_count": 50,
   "metadata": {},
   "outputs": [
    {
     "name": "stdout",
     "output_type": "stream",
     "text": [
      "Some example probabilities: [[ 1.    0.  ]\n",
      " [ 1.    0.  ]\n",
      " [ 1.    0.  ]\n",
      " [ 1.    0.  ]\n",
      " [ 1.    0.  ]\n",
      " [ 1.    0.  ]\n",
      " [ 1.    0.  ]\n",
      " [ 1.    0.  ]\n",
      " [ 0.3   0.7 ]\n",
      " [ 0.97  0.03]]\n",
      "Just the '1' probabilities: [0.0, 0.0, 0.0, 0.0, 0.0, 0.0, 0.0, 0.0, 0.69999999999999996, 0.029999999999999999]\n"
     ]
    }
   ],
   "source": [
    "y_pred_probs = rf_model.predict_proba(X_test)\n",
    "print('Some example probabilities:', y_pred_probs[:10])\n",
    "\n",
    "# y_pred_probs contains probabilities for both '1' and '0'. we only\n",
    "# care about the probabilities of '1', so we extract it below.\n",
    "high_index = rf_model.classes_.tolist().index(1) # this '1' corresponds to what you want to return\n",
    "y_high_probs = [y_pred_probs[i, high_index] for i in range(y_pred_probs.shape[0])]\n",
    "\n",
    "print(\"Just the '1' probabilities:\", y_high_probs[:10])"
   ]
  },
  {
   "cell_type": "code",
   "execution_count": 51,
   "metadata": {},
   "outputs": [
    {
     "name": "stdout",
     "output_type": "stream",
     "text": [
      "(array([ 0.02245463,  0.11024845,  0.13944223,  0.16509434,  0.1897019 ,\n",
      "        0.20720721,  0.22483221,  0.23809524,  0.25490196,  0.27234043,\n",
      "        0.28310502,  0.30541872,  0.31937173,  0.32608696,  0.3372093 ,\n",
      "        0.34355828,  0.36601307,  0.39285714,  0.41085271,  0.41803279,\n",
      "        0.42372881,  0.43243243,  0.44859813,  0.45098039,  0.46938776,\n",
      "        0.4893617 ,  0.51111111,  0.51685393,  0.52873563,  0.53488372,\n",
      "        0.52439024,  0.5375    ,  0.55263158,  0.56164384,  0.56944444,\n",
      "        0.56338028,  0.57971014,  0.58208955,  0.58461538,  0.6031746 ,\n",
      "        0.62295082,  0.6440678 ,  0.65517241,  0.66666667,  0.66071429,\n",
      "        0.67272727,  0.69811321,  0.69230769,  0.70588235,  0.7       ,\n",
      "        0.72916667,  0.74468085,  0.73913043,  0.75609756,  0.74358974,\n",
      "        0.72972973,  0.77142857,  0.76470588,  0.75757576,  0.77419355,\n",
      "        0.79310345,  0.80769231,  0.86956522,  0.86363636,  0.94444444,\n",
      "        1.        ,  1.        ,  1.        ,  1.        ,  1.        ,\n",
      "        1.        ,  1.        ,  1.        ,  1.        ,  1.        ,\n",
      "        1.        ,  1.        ,  1.        ]), array([ 1.        ,  0.97260274,  0.95890411,  0.95890411,  0.95890411,\n",
      "        0.94520548,  0.91780822,  0.89041096,  0.89041096,  0.87671233,\n",
      "        0.84931507,  0.84931507,  0.83561644,  0.82191781,  0.79452055,\n",
      "        0.76712329,  0.76712329,  0.75342466,  0.7260274 ,  0.69863014,\n",
      "        0.68493151,  0.65753425,  0.65753425,  0.63013699,  0.63013699,\n",
      "        0.63013699,  0.63013699,  0.63013699,  0.63013699,  0.63013699,\n",
      "        0.5890411 ,  0.5890411 ,  0.57534247,  0.56164384,  0.56164384,\n",
      "        0.54794521,  0.54794521,  0.53424658,  0.52054795,  0.52054795,\n",
      "        0.52054795,  0.52054795,  0.52054795,  0.52054795,  0.50684932,\n",
      "        0.50684932,  0.50684932,  0.49315068,  0.49315068,  0.47945205,\n",
      "        0.47945205,  0.47945205,  0.46575342,  0.42465753,  0.39726027,\n",
      "        0.36986301,  0.36986301,  0.35616438,  0.34246575,  0.32876712,\n",
      "        0.31506849,  0.28767123,  0.2739726 ,  0.26027397,  0.23287671,\n",
      "        0.23287671,  0.21917808,  0.20547945,  0.17808219,  0.16438356,\n",
      "        0.1369863 ,  0.10958904,  0.08219178,  0.06849315,  0.04109589,\n",
      "        0.02739726,  0.01369863,  0.        ]), array([ 0.  ,  0.01,  0.02,  0.03,  0.04,  0.05,  0.06,  0.07,  0.08,\n",
      "        0.09,  0.1 ,  0.11,  0.12,  0.13,  0.14,  0.15,  0.16,  0.17,\n",
      "        0.18,  0.19,  0.2 ,  0.21,  0.22,  0.23,  0.24,  0.25,  0.27,\n",
      "        0.28,  0.29,  0.3 ,  0.31,  0.32,  0.33,  0.34,  0.35,  0.36,\n",
      "        0.37,  0.38,  0.39,  0.4 ,  0.41,  0.42,  0.43,  0.44,  0.45,\n",
      "        0.47,  0.48,  0.49,  0.5 ,  0.52,  0.53,  0.54,  0.55,  0.56,\n",
      "        0.57,  0.58,  0.59,  0.61,  0.62,  0.63,  0.64,  0.65,  0.68,\n",
      "        0.7 ,  0.71,  0.73,  0.74,  0.75,  0.76,  0.78,  0.79,  0.81,\n",
      "        0.82,  0.87,  0.9 ,  0.91,  0.95]))\n",
      "Average precision is 0.629754779209\n"
     ]
    },
    {
     "data": {
      "image/png": "[encoded data removed]",
      "text/plain": [
       "<matplotlib.figure.Figure at 0x1f504cb34e0>"
      ]
     },
     "metadata": {},
     "output_type": "display_data"
    }
   ],
   "source": [
    "average_precision = average_precision_score (y_test, y_high_probs)\n",
    "precisions, recalls, _ = precision_recall_curve(y_test, y_high_probs)\n",
    "print(precision_recall_curve(y_test, y_high_probs))\n",
    "print('Average precision is', average_precision)\n",
    "plt.plot(recalls, precisions)\n",
    "plt.xlabel('Recall')\n",
    "plt.ylabel('Precision')\n",
    "plt.show()"
   ]
  },
  {
   "cell_type": "code",
   "execution_count": 28,
   "metadata": {},
   "outputs": [
    {
     "data": {
      "text/plain": [
       "[('previous', 0.34606827186179823),\n",
       " ('PO', 0.14290198496049386),\n",
       " ('GS', 0.095152099118542319),\n",
       " ('yearID', 0.093528151166623386),\n",
       " ('InnOuts', 0.077128309028036357),\n",
       " ('A', 0.074529818807100537),\n",
       " ('E', 0.066397745718473747),\n",
       " ('G', 0.062830462871459714),\n",
       " ('DP', 0.030524963576951159),\n",
       " ('allstar', 0.010926219529521983)]"
      ]
     },
     "execution_count": 28,
     "metadata": {},
     "output_type": "execute_result"
    }
   ],
   "source": [
    "features_importances = list(zip(X.columns, model.feature_importances_))\n",
    "features_importances.sort(key=lambda x:x[1], reverse=True)\n",
    "features_importances[:10]"
   ]
  },
  {
   "cell_type": "code",
   "execution_count": 29,
   "metadata": {},
   "outputs": [
    {
     "data": {
      "text/plain": [
       "[('previous', 0.22363844947166883),\n",
       " ('PO', 0.16234794601309971),\n",
       " ('InnOuts', 0.1209001462180693),\n",
       " ('GS', 0.10697642963810641),\n",
       " ('G', 0.084531870838176884),\n",
       " ('yearID', 0.076774629727582713),\n",
       " ('A', 0.074871822181843434),\n",
       " ('E', 0.066416371986335862),\n",
       " ('allstar', 0.042727349695258356),\n",
       " ('DP', 0.0400785636937794)]"
      ]
     },
     "execution_count": 29,
     "metadata": {},
     "output_type": "execute_result"
    }
   ],
   "source": [
    "features_importances = list(zip(X.columns, rf_model.feature_importances_))\n",
    "features_importances.sort(key=lambda x:x[1], reverse=True)\n",
    "features_importances[:10]"
   ]
  },
  {
   "cell_type": "markdown",
   "metadata": {},
   "source": [
    "boxplots  "
   ]
  },
  {
   "cell_type": "code",
   "execution_count": 41,
   "metadata": {},
   "outputs": [
    {
     "data": {
      "image/png": "[encoded data removed]",
      "text/plain": [
       "<matplotlib.figure.Figure at 0x1f50d5e7f28>"
      ]
     },
     "metadata": {},
     "output_type": "display_data"
    }
   ],
   "source": [
    "#stats_box = stats_pre_OF_df.loc(['previous', 'GG'])\n",
    "\n",
    "sns.set(style=\"ticks\")\n",
    "\n",
    "# Draw a nested boxplot to show bills by day and sex\n",
    "sns.boxplot(x=\"GG\", y=\"previous\", hue='GG', data=stats_pre_OF_df, palette=\"PRGn\")\n",
    "sns.despine(offset=10, trim=True)\n",
    "sns.plt.show()"
   ]
  },
  {
   "cell_type": "markdown",
   "metadata": {},
   "source": [
    "barplots  \n",
    "features heatmap  \n",
    "zone rating with year"
   ]
  },
  {
   "cell_type": "code",
   "execution_count": 43,
   "metadata": {},
   "outputs": [
    {
     "data": {
      "image/png": "[encoded data removed]",
      "text/plain": [
       "<matplotlib.figure.Figure at 0x1f50219b390>"
      ]
     },
     "metadata": {},
     "output_type": "display_data"
    }
   ],
   "source": [
    "sns.barplot(x=\"GG\", y=\"previous\", data=stats_pre_OF_df, palette=\"PRGn\")\n",
    "sns.despine(offset=10, trim=True)\n",
    "sns.plt.show()"
   ]
  },
  {
   "cell_type": "markdown",
   "metadata": {},
   "source": [
    "random forest: class_weight\n",
    "how to capture(visualize) features which distinguish between winner and loser\n",
    "clustering algorithm\n",
    "salary"
   ]
  }
 ],
 "metadata": {
  "kernelspec": {
   "display_name": "Python 3",
   "language": "python",
   "name": "python3"
  },
  "language_info": {
   "codemirror_mode": {
    "name": "ipython",
    "version": 3
   },
   "file_extension": ".py",
   "mimetype": "text/x-python",
   "name": "python",
   "nbconvert_exporter": "python",
   "pygments_lexer": "ipython3",
   "version": "3.6.1"
  }
 },
 "nbformat": 4,
 "nbformat_minor": 2
}
